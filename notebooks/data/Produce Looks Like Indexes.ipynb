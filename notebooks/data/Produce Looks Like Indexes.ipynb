{
 "cells": [
  {
   "cell_type": "code",
   "execution_count": 4,
   "id": "occupational-joseph",
   "metadata": {},
   "outputs": [
    {
     "data": {
      "text/plain": [
       "<module 'src.data.index.geographic_index' from '/tank/ml4cc/nicholas/ml4floods/src/data/index/geographic_index.py'>"
      ]
     },
     "execution_count": 4,
     "metadata": {},
     "output_type": "execute_result"
    }
   ],
   "source": [
    "import sys\n",
    "sys.path = [\"/tank/ml4cc/nicholas/ml4floods\"] + sys.path\n",
    "import importlib\n",
    "import os\n",
    "\n",
    "from src.data.index.geographic_index import GeographicIndex\n",
    "import src.data.index.geographic_index\n",
    "importlib.reload(src.data.index.geographic_index)"
   ]
  },
  {
   "cell_type": "code",
   "execution_count": 10,
   "id": "plain-klein",
   "metadata": {},
   "outputs": [],
   "source": [
    "# This will actually be used later\n",
    "provider_geotiff_prefixes = [\"S2\", \"L8\", \"gt\"]\n",
    "cloudmask_prefix = \"cloudprob\"\n",
    "floodmap_prefix = \"floodmaps\"\n",
    "metadata_prefix = \"meta\"\n",
    "master_prefix = \"worldfloods/tiffimages\"\n",
    "\n",
    "import dateutil\n",
    "satdate = dateutil.parser.parse(\"2018-03-18T03:05:00Z\")"
   ]
  },
  {
   "cell_type": "code",
   "execution_count": 14,
   "id": "qualified-sullivan",
   "metadata": {},
   "outputs": [],
   "source": [
    "idx = GeographicIndex()\n",
    "for coord_bin in idx.index_list:\n",
    "    coord_bin.append({\"type\": \"meta\", \"last_modified\": satdate, \"path\": os.path.join(master_prefix, metadata_prefix, \"EMSR274_01AMBILOBE_DEL_v2_observed_event_a.json\")})\n",
    "    for provider in provider_geotiff_prefixes:\n",
    "        coord_bin.append({\"type\": \"satellite_image\", \"last_modified\": satdate, \"provider_id\": provider, \"path\": os.path.join(master_prefix, provider, \"EMSR274_01AMBILOBE_DEL_v2_observed_event_a.tif\")})\n",
    "    coord_bin.append({\"type\": \"floodmap\", \"last_modified\": satdate, \"path\": os.path.join(master_prefix, floodmap_prefix, \"EMSR274_01AMBILOBE_DEL_v2_observed_event_a.shp\")})\n",
    "    coord_bin.append({\"type\": \"cloudmask\", \"last_modified\": satdate, \"path\": os.path.join(master_prefix, cloudmask_prefix, \"EMSR274_01AMBILOBE_DEL_v2_observed_event_a.tif\")})\n",
    "    "
   ]
  },
  {
   "cell_type": "code",
   "execution_count": 15,
   "id": "nervous-poverty",
   "metadata": {},
   "outputs": [
    {
     "data": {
      "text/plain": [
       "[{'type': 'meta',\n",
       "  'last_modified': datetime.datetime(2018, 3, 18, 3, 5, tzinfo=tzutc()),\n",
       "  'path': 'worldfloods/tiffimages/meta/EMSR274_01AMBILOBE_DEL_v2_observed_event_a.json'},\n",
       " {'type': 'satellite_image',\n",
       "  'last_modified': datetime.datetime(2018, 3, 18, 3, 5, tzinfo=tzutc()),\n",
       "  'provider_id': 'S2',\n",
       "  'path': 'worldfloods/tiffimages/S2/EMSR274_01AMBILOBE_DEL_v2_observed_event_a.tif'},\n",
       " {'type': 'satellite_image',\n",
       "  'last_modified': datetime.datetime(2018, 3, 18, 3, 5, tzinfo=tzutc()),\n",
       "  'provider_id': 'L8',\n",
       "  'path': 'worldfloods/tiffimages/L8/EMSR274_01AMBILOBE_DEL_v2_observed_event_a.tif'},\n",
       " {'type': 'satellite_image',\n",
       "  'last_modified': datetime.datetime(2018, 3, 18, 3, 5, tzinfo=tzutc()),\n",
       "  'provider_id': 'gt',\n",
       "  'path': 'worldfloods/tiffimages/gt/EMSR274_01AMBILOBE_DEL_v2_observed_event_a.tif'},\n",
       " {'type': 'floodmap',\n",
       "  'last_modified': datetime.datetime(2018, 3, 18, 3, 5, tzinfo=tzutc()),\n",
       "  'path': 'worldfloods/tiffimages/floodmaps/EMSR274_01AMBILOBE_DEL_v2_observed_event_a.shp'},\n",
       " {'type': 'cloudmask',\n",
       "  'last_modified': datetime.datetime(2018, 3, 18, 3, 5, tzinfo=tzutc()),\n",
       "  'path': 'worldfloods/tiffimages/cloudprob/EMSR274_01AMBILOBE_DEL_v2_observed_event_a.tif'}]"
      ]
     },
     "execution_count": 15,
     "metadata": {},
     "output_type": "execute_result"
    }
   ],
   "source": [
    "idx.index_list[0]"
   ]
  },
  {
   "cell_type": "code",
   "execution_count": 16,
   "id": "unavailable-export",
   "metadata": {},
   "outputs": [],
   "source": [
    "idx.save_index(\"/tank/ml4cc/nicholas/ml4floods_dummy_idx.pkl\")"
   ]
  },
  {
   "cell_type": "code",
   "execution_count": 17,
   "id": "proprietary-verse",
   "metadata": {},
   "outputs": [
    {
     "name": "stdout",
     "output_type": "stream",
     "text": [
      "/tank/ml4cc/nicholas/ml4floods/notebooks/data\r\n"
     ]
    }
   ],
   "source": [
    "!pwd"
   ]
  },
  {
   "cell_type": "code",
   "execution_count": null,
   "id": "loose-defensive",
   "metadata": {},
   "outputs": [],
   "source": []
  }
 ],
 "metadata": {
  "kernelspec": {
   "display_name": "Python 3",
   "language": "python",
   "name": "python3"
  },
  "language_info": {
   "codemirror_mode": {
    "name": "ipython",
    "version": 3
   },
   "file_extension": ".py",
   "mimetype": "text/x-python",
   "name": "python",
   "nbconvert_exporter": "python",
   "pygments_lexer": "ipython3",
   "version": "3.8.5"
  }
 },
 "nbformat": 4,
 "nbformat_minor": 5
}
