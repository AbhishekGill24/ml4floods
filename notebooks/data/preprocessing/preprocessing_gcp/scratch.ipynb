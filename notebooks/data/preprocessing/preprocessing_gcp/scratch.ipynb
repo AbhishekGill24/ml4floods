{
 "cells": [
  {
   "cell_type": "code",
   "execution_count": 20,
   "id": "improved-ratio",
   "metadata": {},
   "outputs": [],
   "source": [
    "from pathlib import Path "
   ]
  },
  {
   "cell_type": "code",
   "execution_count": 11,
   "id": "sunrise-sensitivity",
   "metadata": {},
   "outputs": [],
   "source": [
    "x = \"gs://bucketname/path/to/file.csv\""
   ]
  },
  {
   "cell_type": "code",
   "execution_count": 12,
   "id": "victorian-undergraduate",
   "metadata": {},
   "outputs": [
    {
     "data": {
      "text/plain": [
       "'bucketname'"
      ]
     },
     "execution_count": 12,
     "metadata": {},
     "output_type": "execute_result"
    }
   ],
   "source": [
    "bucketname = x.split(\"gs://\")[-1].split(\"/\")[0]\n",
    "bucketname"
   ]
  },
  {
   "cell_type": "code",
   "execution_count": 15,
   "id": "rotary-queens",
   "metadata": {},
   "outputs": [
    {
     "data": {
      "text/plain": [
       "'path/to'"
      ]
     },
     "execution_count": 15,
     "metadata": {},
     "output_type": "execute_result"
    }
   ],
   "source": [
    "os.path.dirname(os.path.join(*(x.split(\"gs://\")[-1].split(\"/\")[1:])))"
   ]
  },
  {
   "cell_type": "code",
   "execution_count": 19,
   "id": "internal-objective",
   "metadata": {},
   "outputs": [
    {
     "data": {
      "text/plain": [
       "'path/to'"
      ]
     },
     "execution_count": 19,
     "metadata": {},
     "output_type": "execute_result"
    }
   ],
   "source": []
  },
  {
   "cell_type": "code",
   "execution_count": 22,
   "id": "caroline-delay",
   "metadata": {},
   "outputs": [
    {
     "data": {
      "text/plain": [
       "'file.csv'"
      ]
     },
     "execution_count": 22,
     "metadata": {},
     "output_type": "execute_result"
    }
   ],
   "source": [
    "Path(x).name"
   ]
  },
  {
   "cell_type": "code",
   "execution_count": 3,
   "id": "essential-substitute",
   "metadata": {},
   "outputs": [
    {
     "data": {
      "text/plain": [
       "[]"
      ]
     },
     "execution_count": 3,
     "metadata": {},
     "output_type": "execute_result"
    }
   ],
   "source": [
    "# Path based modules to allow us to save files to our local machine\n",
    "from pyprojroot import here\n",
    "import sys\n",
    "import os\n",
    "root = here(project_files=[\".here\"])\n",
    "sys.path.append(str(here()))\n",
    "\n",
    "# Geospatial modules and WorldFloods activations mapping module\n",
    "import geopandas as gpd\n",
    "import pickle\n",
    "import pandas as pd\n",
    "from src.data.copernicusEMS import activations\n",
    "from src.data import utils\n",
    "\n",
    "unzipped_activations_parent_dir = \"gs://ml4cc_data_lake/0_DEV/0_Raw/WorldFloods/copernicus_ems/copernicus_ems_unzip\"\n",
    "# unzipped_activations_parent_dir = \"0_DEV/0_Raw/WorldFloods/copernicus_ems/copernicus_ems_unzip\"\n",
    "unzipped_activations_dirs = utils.get_files_in_bucket_directory_gs(gs_path=unzipped_activations_parent_dir, suffix=None, substring=\"AOI02\")\n",
    "unzipped_activations_dirs = list(set([os.path.dirname(f) for f in unzipped_activations_dirs]))\n",
    "unzipped_activations_dirs[:20]"
   ]
  },
  {
   "cell_type": "code",
   "execution_count": 4,
   "id": "missing-aging",
   "metadata": {},
   "outputs": [
    {
     "data": {
      "text/plain": [
       "'ems_activations_20150701_20210304.csv'"
      ]
     },
     "execution_count": 4,
     "metadata": {},
     "output_type": "execute_result"
    }
   ],
   "source": [
    "os.path.basename(\"0_DEV/0_Raw/WorldFloods/copernicus_ems/copernicus_ems_codes/ems_activations_20150701_20210304.csv\")"
   ]
  },
  {
   "cell_type": "code",
   "execution_count": 10,
   "id": "herbal-conversion",
   "metadata": {},
   "outputs": [
    {
     "data": {
      "text/plain": [
       "['gs://ml4cc_data_lake/0_DEV/0_Raw/WorldFloods/copernicus_ems/copernicus_ems_unzip/EMSR280/01MALUNG/EMSR280_01MALUNG_DEL_MONIT04_v1_hydrography_l.kmz',\n",
       " 'gs://ml4cc_data_lake/0_DEV/0_Raw/WorldFloods/copernicus_ems/copernicus_ems_unzip/EMSR280/01MALUNG/EMSR280_01MALUNG_DEL_MONIT04_v1_hydrography_l.prj',\n",
       " 'gs://ml4cc_data_lake/0_DEV/0_Raw/WorldFloods/copernicus_ems/copernicus_ems_unzip/EMSR280/01MALUNG/EMSR280_01MALUNG_DEL_MONIT04_v1_hydrography_l.shp',\n",
       " 'gs://ml4cc_data_lake/0_DEV/0_Raw/WorldFloods/copernicus_ems/copernicus_ems_unzip/EMSR280/01MALUNG/EMSR280_01MALUNG_DEL_MONIT04_v1_hydrography_l.shx',\n",
       " 'gs://ml4cc_data_lake/0_DEV/0_Raw/WorldFloods/copernicus_ems/copernicus_ems_unzip/EMSR280/01MALUNG/EMSR280_01MALUNG_DEL_MONIT04_v1_observed_event_a.dbf',\n",
       " 'gs://ml4cc_data_lake/0_DEV/0_Raw/WorldFloods/copernicus_ems/copernicus_ems_unzip/EMSR280/01MALUNG/EMSR280_01MALUNG_DEL_MONIT04_v1_observed_event_a.kmz',\n",
       " 'gs://ml4cc_data_lake/0_DEV/0_Raw/WorldFloods/copernicus_ems/copernicus_ems_unzip/EMSR280/01MALUNG/EMSR280_01MALUNG_DEL_MONIT04_v1_observed_event_a.prj',\n",
       " 'gs://ml4cc_data_lake/0_DEV/0_Raw/WorldFloods/copernicus_ems/copernicus_ems_unzip/EMSR280/01MALUNG/EMSR280_01MALUNG_DEL_MONIT04_v1_observed_event_a.shp',\n",
       " 'gs://ml4cc_data_lake/0_DEV/0_Raw/WorldFloods/copernicus_ems/copernicus_ems_unzip/EMSR280/01MALUNG/EMSR280_01MALUNG_DEL_MONIT04_v1_observed_event_a.shx',\n",
       " 'gs://ml4cc_data_lake/0_DEV/0_Raw/WorldFloods/copernicus_ems/copernicus_ems_unzip/EMSR280/01MALUNG/EMSR280_01MALUNG_DEL_MONIT04_v1_source.dbf']"
      ]
     },
     "execution_count": 10,
     "metadata": {},
     "output_type": "execute_result"
    }
   ],
   "source": [
    "slist = [\"gs://ml4cc_data_lake/0_DEV/0_Raw/WorldFloods/copernicus_ems/copernicus_ems_unzip/EMSR280/01MALUNG/EMSR280_01MALUNG_DEL_MONIT04_v1_hydrography_l.kmz\", \"gs://ml4cc_data_lake/0_DEV/0_Raw/WorldFloods/copernicus_ems/copernicus_ems_unzip/EMSR280/01MALUNG/EMSR280_01MALUNG_DEL_MONIT04_v1_hydrography_l.prj\", \"gs://ml4cc_data_lake/0_DEV/0_Raw/WorldFloods/copernicus_ems/copernicus_ems_unzip/EMSR280/01MALUNG/EMSR280_01MALUNG_DEL_MONIT04_v1_hydrography_l.shp\", \"gs://ml4cc_data_lake/0_DEV/0_Raw/WorldFloods/copernicus_ems/copernicus_ems_unzip/EMSR280/01MALUNG/EMSR280_01MALUNG_DEL_MONIT04_v1_hydrography_l.shx\", \"gs://ml4cc_data_lake/0_DEV/0_Raw/WorldFloods/copernicus_ems/copernicus_ems_unzip/EMSR280/01MALUNG/EMSR280_01MALUNG_DEL_MONIT04_v1_observed_event_a.dbf\", \"gs://ml4cc_data_lake/0_DEV/0_Raw/WorldFloods/copernicus_ems/copernicus_ems_unzip/EMSR280/01MALUNG/EMSR280_01MALUNG_DEL_MONIT04_v1_observed_event_a.kmz\", \"gs://ml4cc_data_lake/0_DEV/0_Raw/WorldFloods/copernicus_ems/copernicus_ems_unzip/EMSR280/01MALUNG/EMSR280_01MALUNG_DEL_MONIT04_v1_observed_event_a.prj\", \"gs://ml4cc_data_lake/0_DEV/0_Raw/WorldFloods/copernicus_ems/copernicus_ems_unzip/EMSR280/01MALUNG/EMSR280_01MALUNG_DEL_MONIT04_v1_observed_event_a.shp\", \"gs://ml4cc_data_lake/0_DEV/0_Raw/WorldFloods/copernicus_ems/copernicus_ems_unzip/EMSR280/01MALUNG/EMSR280_01MALUNG_DEL_MONIT04_v1_observed_event_a.shx\", \"gs://ml4cc_data_lake/0_DEV/0_Raw/WorldFloods/copernicus_ems/copernicus_ems_unzip/EMSR280/01MALUNG/EMSR280_01MALUNG_DEL_MONIT04_v1_source.dbf\"]\n",
    "slist"
   ]
  },
  {
   "cell_type": "code",
   "execution_count": 11,
   "id": "accredited-chicago",
   "metadata": {},
   "outputs": [
    {
     "data": {
      "text/plain": [
       "['gs://ml4cc_data_lake/0_DEV/0_Raw/WorldFloods/copernicus_ems/copernicus_ems_unzip/EMSR280/01MALUNG/EMSR280_01MALUNG_DEL_MONIT04_v1_hydrography_l.kmz',\n",
       " 'gs://ml4cc_data_lake/0_DEV/0_Raw/WorldFloods/copernicus_ems/copernicus_ems_unzip/EMSR280/01MALUNG/EMSR280_01MALUNG_DEL_MONIT04_v1_hydrography_l.prj',\n",
       " 'gs://ml4cc_data_lake/0_DEV/0_Raw/WorldFloods/copernicus_ems/copernicus_ems_unzip/EMSR280/01MALUNG/EMSR280_01MALUNG_DEL_MONIT04_v1_hydrography_l.shp',\n",
       " 'gs://ml4cc_data_lake/0_DEV/0_Raw/WorldFloods/copernicus_ems/copernicus_ems_unzip/EMSR280/01MALUNG/EMSR280_01MALUNG_DEL_MONIT04_v1_hydrography_l.shx']"
      ]
     },
     "execution_count": 11,
     "metadata": {},
     "output_type": "execute_result"
    }
   ],
   "source": [
    "ffn = lambda x: \"hydrography\" in x\n",
    "list(filter(ffn, slist))"
   ]
  }
 ],
 "metadata": {
  "kernelspec": {
   "display_name": "Python [conda env:ml4f_dj]",
   "language": "python",
   "name": "conda-env-ml4f_dj-py"
  },
  "language_info": {
   "codemirror_mode": {
    "name": "ipython",
    "version": 3
   },
   "file_extension": ".py",
   "mimetype": "text/x-python",
   "name": "python",
   "nbconvert_exporter": "python",
   "pygments_lexer": "ipython3",
   "version": "3.8.5"
  }
 },
 "nbformat": 4,
 "nbformat_minor": 5
}
