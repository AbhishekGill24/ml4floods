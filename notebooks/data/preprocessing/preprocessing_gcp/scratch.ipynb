{
 "cells": [
  {
   "cell_type": "code",
   "execution_count": 15,
   "id": "internal-globe",
   "metadata": {},
   "outputs": [],
   "source": [
    "import pandas as pd\n",
    "import geopandas as gpd\n",
    "import pickle\n",
    "from pprint import pprint"
   ]
  },
  {
   "cell_type": "code",
   "execution_count": 2,
   "id": "numeric-arizona",
   "metadata": {},
   "outputs": [
    {
     "data": {
      "text/html": [
       "<div>\n",
       "<style scoped>\n",
       "    .dataframe tbody tr th:only-of-type {\n",
       "        vertical-align: middle;\n",
       "    }\n",
       "\n",
       "    .dataframe tbody tr th {\n",
       "        vertical-align: top;\n",
       "    }\n",
       "\n",
       "    .dataframe thead th {\n",
       "        text-align: right;\n",
       "    }\n",
       "</style>\n",
       "<table border=\"1\" class=\"dataframe\">\n",
       "  <thead>\n",
       "    <tr style=\"text-align: right;\">\n",
       "      <th></th>\n",
       "      <th>num_legs</th>\n",
       "      <th>num_wings</th>\n",
       "      <th>num_specimen_seen</th>\n",
       "    </tr>\n",
       "  </thead>\n",
       "  <tbody>\n",
       "    <tr>\n",
       "      <th>falcon</th>\n",
       "      <td>2</td>\n",
       "      <td>2</td>\n",
       "      <td>10</td>\n",
       "    </tr>\n",
       "    <tr>\n",
       "      <th>dog</th>\n",
       "      <td>4</td>\n",
       "      <td>0</td>\n",
       "      <td>2</td>\n",
       "    </tr>\n",
       "    <tr>\n",
       "      <th>spider</th>\n",
       "      <td>8</td>\n",
       "      <td>0</td>\n",
       "      <td>1</td>\n",
       "    </tr>\n",
       "    <tr>\n",
       "      <th>fish</th>\n",
       "      <td>0</td>\n",
       "      <td>0</td>\n",
       "      <td>8</td>\n",
       "    </tr>\n",
       "  </tbody>\n",
       "</table>\n",
       "</div>"
      ],
      "text/plain": [
       "        num_legs  num_wings  num_specimen_seen\n",
       "falcon         2          2                 10\n",
       "dog            4          0                  2\n",
       "spider         8          0                  1\n",
       "fish           0          0                  8"
      ]
     },
     "execution_count": 2,
     "metadata": {},
     "output_type": "execute_result"
    }
   ],
   "source": [
    "df = pd.DataFrame({'num_legs': [2, 4, 8, 0],\n",
    "                   'num_wings': [2, 0, 0, 0],\n",
    "                   'num_specimen_seen': [10, 2, 1, 8]},\n",
    "                  index=['falcon', 'dog', 'spider', 'fish'])\n",
    "\n",
    "df.to_json()\n",
    "df"
   ]
  },
  {
   "cell_type": "code",
   "execution_count": 9,
   "id": "activated-consolidation",
   "metadata": {},
   "outputs": [
    {
     "data": {
      "text/html": [
       "<div>\n",
       "<style scoped>\n",
       "    .dataframe tbody tr th:only-of-type {\n",
       "        vertical-align: middle;\n",
       "    }\n",
       "\n",
       "    .dataframe tbody tr th {\n",
       "        vertical-align: top;\n",
       "    }\n",
       "\n",
       "    .dataframe thead th {\n",
       "        text-align: right;\n",
       "    }\n",
       "</style>\n",
       "<table border=\"1\" class=\"dataframe\">\n",
       "  <thead>\n",
       "    <tr style=\"text-align: right;\">\n",
       "      <th></th>\n",
       "      <th>w_class</th>\n",
       "      <th>source</th>\n",
       "      <th>geometry</th>\n",
       "    </tr>\n",
       "  </thead>\n",
       "  <tbody>\n",
       "    <tr>\n",
       "      <th>0</th>\n",
       "      <td>Flooded area</td>\n",
       "      <td>flood</td>\n",
       "      <td>MULTIPOLYGON (((9.71259 40.64228, 9.71245 40.6...</td>\n",
       "    </tr>\n",
       "    <tr>\n",
       "      <th>1</th>\n",
       "      <td>Flooded area</td>\n",
       "      <td>flood</td>\n",
       "      <td>MULTIPOLYGON (((9.65320 40.62754, 9.65318 40.6...</td>\n",
       "    </tr>\n",
       "    <tr>\n",
       "      <th>2</th>\n",
       "      <td>Flooded area</td>\n",
       "      <td>flood</td>\n",
       "      <td>POLYGON ((9.64421 40.62988, 9.64411 40.62988, ...</td>\n",
       "    </tr>\n",
       "    <tr>\n",
       "      <th>3</th>\n",
       "      <td>Flooded area</td>\n",
       "      <td>flood</td>\n",
       "      <td>MULTIPOLYGON (((9.70369 40.63643, 9.70363 40.6...</td>\n",
       "    </tr>\n",
       "    <tr>\n",
       "      <th>4</th>\n",
       "      <td>Flooded area</td>\n",
       "      <td>flood</td>\n",
       "      <td>MULTIPOLYGON (((9.69035 40.63546, 9.69030 40.6...</td>\n",
       "    </tr>\n",
       "  </tbody>\n",
       "</table>\n",
       "</div>"
      ],
      "text/plain": [
       "        w_class source                                           geometry\n",
       "0  Flooded area  flood  MULTIPOLYGON (((9.71259 40.64228, 9.71245 40.6...\n",
       "1  Flooded area  flood  MULTIPOLYGON (((9.65320 40.62754, 9.65318 40.6...\n",
       "2  Flooded area  flood  POLYGON ((9.64421 40.62988, 9.64411 40.62988, ...\n",
       "3  Flooded area  flood  MULTIPOLYGON (((9.70369 40.63643, 9.70363 40.6...\n",
       "4  Flooded area  flood  MULTIPOLYGON (((9.69035 40.63546, 9.69030 40.6..."
      ]
     },
     "execution_count": 9,
     "metadata": {},
     "output_type": "execute_result"
    }
   ],
   "source": [
    "# Checking if the geojsons were properly saved locally\n",
    "\n",
    "local_gjson = \"/home/satyarth934/projects/ml4floods/datasets/Copernicus_unzipped_gcp/EMSR486/AOI06/EMSR486_AOI06_GRA_PRODUCT_r1_v1_floodmap.geojson\"\n",
    "gpd.read_file(local_gjson).head()"
   ]
  },
  {
   "cell_type": "code",
   "execution_count": 18,
   "id": "foreign-pendant",
   "metadata": {},
   "outputs": [
    {
     "name": "stdout",
     "output_type": "stream",
     "text": [
      "{'abstract': 'NaN',\n",
      " 'aoi_code': 'AOI06',\n",
      " 'area_of_interest_file': 'EMSR486_AOI06_GRA_PRODUCT_areaOfInterestA_r1_v1.shp',\n",
      " 'area_of_interest_polygon': <shapely.geometry.polygon.Polygon object at 0x7f5638be2a30>,\n",
      " 'bounding_box': {'east': 9.73205387300004,\n",
      "                  'north': 40.64975631800007,\n",
      "                  'south': 40.62699216500005,\n",
      "                  'west': 9.643201334000025},\n",
      " 'country': 'NaN',\n",
      " 'ems_code': 'EMSR486',\n",
      " 'event_id': 'EMSR486_AOI06_GRA_PRODUCT_r1_v1',\n",
      " 'event_type': 'Riverine flood',\n",
      " 'layer_name': 'EMSR486_AOI06_GRA_PRODUCT_observedEventA_r1_v1',\n",
      " 'observed_event_file': 'EMSR486_AOI06_GRA_PRODUCT_observedEventA_r1_v1.shp',\n",
      " 'purpose': 'NaN',\n",
      " 'reference_system': {'code': '4326', 'code_space': 'epsg'},\n",
      " 'satellite': 'Pleiades-1A-1B',\n",
      " 'satellite_date': Timestamp('2020-12-03 10:01:31+0000', tz='UTC'),\n",
      " 'satellite_pre_event': 'Pleiades-1A-1B',\n",
      " 'source': 'CopernicusEMS',\n",
      " 'timestamp_pre_event': Timestamp('2020-05-07 10:15:57+0000', tz='UTC')}\n",
      "<class 'str'>\n",
      "<class 'str'>\n",
      "<class 'str'>\n",
      "<class 'pandas._libs.tslibs.timestamps.Timestamp'>\n",
      "<class 'str'>\n",
      "<class 'str'>\n",
      "<class 'dict'>\n",
      "<class 'dict'>\n",
      "<class 'str'>\n",
      "<class 'str'>\n",
      "<class 'str'>\n",
      "<class 'shapely.geometry.polygon.Polygon'>\n",
      "<class 'str'>\n",
      "<class 'str'>\n",
      "<class 'str'>\n",
      "<class 'str'>\n",
      "<class 'str'>\n",
      "<class 'pandas._libs.tslibs.timestamps.Timestamp'>\n"
     ]
    }
   ],
   "source": [
    "# Checking if the pickles were properly saved locally\n",
    "\n",
    "local_pickle = \"/home/satyarth934/projects/ml4floods/datasets/Copernicus_unzipped_gcp/EMSR486/AOI06/EMSR486_AOI06_GRA_PRODUCT_r1_v1_metadata_floodmap.pickle\"\n",
    "pkl = pickle.load(open(local_pickle, 'rb'))\n",
    "\n",
    "pprint(pkl)\n",
    "for k in pkl:\n",
    "    print(type(pkl[k]))"
   ]
  },
  {
   "cell_type": "code",
   "execution_count": null,
   "id": "humanitarian-portrait",
   "metadata": {},
   "outputs": [],
   "source": [
    "nonworking_geojson = \"gs://ml4cc_data_lake/0_DEV/0_Raw/WorldFloods/copernicus_ems/satyarth_mess/testg.geojson\"\n",
    "gpd.read_file(nonworking_geojson).head()"
   ]
  },
  {
   "cell_type": "code",
   "execution_count": null,
   "id": "smoking-lloyd",
   "metadata": {},
   "outputs": [],
   "source": [
    "working_geojson = \"gs://ml4floods/worldfloods/tiffimages/S2metadata/01042016_Holmes_Creek_at_Vernon_FL.geojson\"\n",
    "gdf = gpd.read_file(working_geojson)\n",
    "gdf"
   ]
  },
  {
   "cell_type": "code",
   "execution_count": null,
   "id": "thousand-ecology",
   "metadata": {},
   "outputs": [],
   "source": []
  },
  {
   "cell_type": "code",
   "execution_count": null,
   "id": "taken-beauty",
   "metadata": {},
   "outputs": [],
   "source": [
    "a = \"delete.json\"\n",
    "b = gpd.read_file(a)\n",
    "b.index = b.id\n",
    "del b[\"id\"]\n",
    "b"
   ]
  },
  {
   "cell_type": "code",
   "execution_count": null,
   "id": "latin-lunch",
   "metadata": {},
   "outputs": [],
   "source": [
    "gdf.to_file(\"delete.json\", driver=\"GeoJSON\", content_type=\"application/json\")"
   ]
  },
  {
   "cell_type": "code",
   "execution_count": null,
   "id": "productive-survivor",
   "metadata": {},
   "outputs": [],
   "source": [
    "working_geojson = \"gs://ml4floods/worldfloods/tiffimages/S2metadata/01042016_Holmes_Creek_at_Vernon_FL.geojson\"\n",
    "gdf = gpd.read_file(working_geojson)\n",
    "\n",
    "# gjson_output = \"gs://ml4cc_data_lake/0_DEV/0_Raw/WorldFloods/copernicus_ems/satyarth_mess/test_Vernon.geojson\"\n",
    "# gdf.to_file(\"delete.geojson\", driver=\"GeoJSON\", content_type=\"application/json\")\n",
    "# gdf.to_file(gjson_output, driver=\"GeoJSON\", content_type=\"application/json\")\n",
    "\n",
    "from google.cloud import storage\n",
    "\n",
    "bucket = \"ml4cc_data_lake\"\n",
    "filename = \"0_DEV/0_Raw/WorldFloods/copernicus_ems/satyarth_mess/testg.geojson\"\n",
    "\n",
    "client = storage.Client()\n",
    "bucket = client.get_bucket(bucket)\n",
    "blob = bucket.blob(filename)\n",
    "gdf.index = gdf.id\n",
    "del gdf[\"id\"]\n",
    "blob.upload_from_string(gdf.to_json(), content_type=\"application/json\")"
   ]
  },
  {
   "cell_type": "code",
   "execution_count": 3,
   "id": "second-eligibility",
   "metadata": {},
   "outputs": [],
   "source": [
    "working_geojson = \"gs://ml4floods/worldfloods/tiffimages/S2metadata/01042016_Holmes_Creek_at_Vernon_FL.geojson\"\n",
    "gdf = gpd.read_file(working_geojson)\n",
    "\n",
    "nonworking_geojson = \"gs://ml4cc_data_lake/0_DEV/0_Raw/WorldFloods/copernicus_ems/satyarth_mess/testg.geojson\"\n",
    "gdf.to_file(nonworking_geojson, driver=\"GeoJSON\", encoding=\"latin-1\", content_type=\"application/json\")"
   ]
  },
  {
   "cell_type": "code",
   "execution_count": 6,
   "id": "computational-oxide",
   "metadata": {},
   "outputs": [
    {
     "data": {
      "text/html": [
       "<div>\n",
       "<style scoped>\n",
       "    .dataframe tbody tr th:only-of-type {\n",
       "        vertical-align: middle;\n",
       "    }\n",
       "\n",
       "    .dataframe tbody tr th {\n",
       "        vertical-align: top;\n",
       "    }\n",
       "\n",
       "    .dataframe thead th {\n",
       "        text-align: right;\n",
       "    }\n",
       "</style>\n",
       "<table border=\"1\" class=\"dataframe\">\n",
       "  <thead>\n",
       "    <tr style=\"text-align: right;\">\n",
       "      <th></th>\n",
       "      <th>id</th>\n",
       "      <th>CLOUDY_PIXEL_PERCENTAGE</th>\n",
       "      <th>PRODUCT_ID</th>\n",
       "      <th>SPACECRAFT_NAME</th>\n",
       "      <th>system:time_start</th>\n",
       "      <th>geometry</th>\n",
       "    </tr>\n",
       "  </thead>\n",
       "  <tbody>\n",
       "    <tr>\n",
       "      <th>0</th>\n",
       "      <td>20160111T162642_20160111T162638_T16REU</td>\n",
       "      <td>0.0</td>\n",
       "      <td>S2A_MSIL1C_20160111T162642_N0201_R040_T16REU_2...</td>\n",
       "      <td>Sentinel-2A</td>\n",
       "      <td>1452530233424</td>\n",
       "      <td>POLYGON ((-87.00031 30.73308, -87.00031 30.733...</td>\n",
       "    </tr>\n",
       "    <tr>\n",
       "      <th>1</th>\n",
       "      <td>20160111T162642_20160111T162638_T16REV</td>\n",
       "      <td>1.0</td>\n",
       "      <td>S2A_MSIL1C_20160111T162642_N0201_R040_T16REV_2...</td>\n",
       "      <td>Sentinel-2A</td>\n",
       "      <td>1452530233424</td>\n",
       "      <td>POLYGON ((-87.00032 31.63556, -87.00032 31.635...</td>\n",
       "    </tr>\n",
       "    <tr>\n",
       "      <th>2</th>\n",
       "      <td>20160111T162642_20160111T162638_T16RFU</td>\n",
       "      <td>4.0</td>\n",
       "      <td>S2A_MSIL1C_20160111T162642_N0201_R040_T16RFU_2...</td>\n",
       "      <td>Sentinel-2A</td>\n",
       "      <td>1452530233424</td>\n",
       "      <td>POLYGON ((-85.95558 30.72888, -85.95558 30.728...</td>\n",
       "    </tr>\n",
       "    <tr>\n",
       "      <th>3</th>\n",
       "      <td>20160111T162642_20160111T162638_T16RFV</td>\n",
       "      <td>4.0</td>\n",
       "      <td>S2A_MSIL1C_20160111T162642_N0201_R040_T16RFV_2...</td>\n",
       "      <td>Sentinel-2A</td>\n",
       "      <td>1452530233424</td>\n",
       "      <td>POLYGON ((-85.94563 31.63120, -85.94563 31.631...</td>\n",
       "    </tr>\n",
       "    <tr>\n",
       "      <th>4</th>\n",
       "      <td>20160111T163713_20160111T183352_T16REU</td>\n",
       "      <td>0.0</td>\n",
       "      <td>S2A_OPER_PRD_MSIL1C_PDMC_20160111T221137_R040_...</td>\n",
       "      <td>Sentinel-2A</td>\n",
       "      <td>1452530233424</td>\n",
       "      <td>POLYGON ((-87.00031 30.73308, -87.00031 30.733...</td>\n",
       "    </tr>\n",
       "    <tr>\n",
       "      <th>5</th>\n",
       "      <td>20160111T163713_20160111T183352_T16REV</td>\n",
       "      <td>1.0</td>\n",
       "      <td>S2A_OPER_PRD_MSIL1C_PDMC_20160111T221137_R040_...</td>\n",
       "      <td>Sentinel-2A</td>\n",
       "      <td>1452530233424</td>\n",
       "      <td>POLYGON ((-87.00032 31.63556, -87.00032 31.635...</td>\n",
       "    </tr>\n",
       "    <tr>\n",
       "      <th>6</th>\n",
       "      <td>20160111T163713_20160111T183352_T16RFU</td>\n",
       "      <td>4.0</td>\n",
       "      <td>S2A_OPER_PRD_MSIL1C_PDMC_20160111T221137_R040_...</td>\n",
       "      <td>Sentinel-2A</td>\n",
       "      <td>1452530233424</td>\n",
       "      <td>POLYGON ((-85.95558 30.72888, -85.95558 30.728...</td>\n",
       "    </tr>\n",
       "    <tr>\n",
       "      <th>7</th>\n",
       "      <td>20160111T163713_20160111T183352_T16RFV</td>\n",
       "      <td>4.0</td>\n",
       "      <td>S2A_OPER_PRD_MSIL1C_PDMC_20160111T221137_R040_...</td>\n",
       "      <td>Sentinel-2A</td>\n",
       "      <td>1452530233424</td>\n",
       "      <td>POLYGON ((-85.94563 31.63120, -85.94563 31.631...</td>\n",
       "    </tr>\n",
       "  </tbody>\n",
       "</table>\n",
       "</div>"
      ],
      "text/plain": [
       "                                       id  CLOUDY_PIXEL_PERCENTAGE  \\\n",
       "0  20160111T162642_20160111T162638_T16REU                      0.0   \n",
       "1  20160111T162642_20160111T162638_T16REV                      1.0   \n",
       "2  20160111T162642_20160111T162638_T16RFU                      4.0   \n",
       "3  20160111T162642_20160111T162638_T16RFV                      4.0   \n",
       "4  20160111T163713_20160111T183352_T16REU                      0.0   \n",
       "5  20160111T163713_20160111T183352_T16REV                      1.0   \n",
       "6  20160111T163713_20160111T183352_T16RFU                      4.0   \n",
       "7  20160111T163713_20160111T183352_T16RFV                      4.0   \n",
       "\n",
       "                                          PRODUCT_ID SPACECRAFT_NAME  \\\n",
       "0  S2A_MSIL1C_20160111T162642_N0201_R040_T16REU_2...     Sentinel-2A   \n",
       "1  S2A_MSIL1C_20160111T162642_N0201_R040_T16REV_2...     Sentinel-2A   \n",
       "2  S2A_MSIL1C_20160111T162642_N0201_R040_T16RFU_2...     Sentinel-2A   \n",
       "3  S2A_MSIL1C_20160111T162642_N0201_R040_T16RFV_2...     Sentinel-2A   \n",
       "4  S2A_OPER_PRD_MSIL1C_PDMC_20160111T221137_R040_...     Sentinel-2A   \n",
       "5  S2A_OPER_PRD_MSIL1C_PDMC_20160111T221137_R040_...     Sentinel-2A   \n",
       "6  S2A_OPER_PRD_MSIL1C_PDMC_20160111T221137_R040_...     Sentinel-2A   \n",
       "7  S2A_OPER_PRD_MSIL1C_PDMC_20160111T221137_R040_...     Sentinel-2A   \n",
       "\n",
       "   system:time_start                                           geometry  \n",
       "0      1452530233424  POLYGON ((-87.00031 30.73308, -87.00031 30.733...  \n",
       "1      1452530233424  POLYGON ((-87.00032 31.63556, -87.00032 31.635...  \n",
       "2      1452530233424  POLYGON ((-85.95558 30.72888, -85.95558 30.728...  \n",
       "3      1452530233424  POLYGON ((-85.94563 31.63120, -85.94563 31.631...  \n",
       "4      1452530233424  POLYGON ((-87.00031 30.73308, -87.00031 30.733...  \n",
       "5      1452530233424  POLYGON ((-87.00032 31.63556, -87.00032 31.635...  \n",
       "6      1452530233424  POLYGON ((-85.95558 30.72888, -85.95558 30.728...  \n",
       "7      1452530233424  POLYGON ((-85.94563 31.63120, -85.94563 31.631...  "
      ]
     },
     "execution_count": 6,
     "metadata": {},
     "output_type": "execute_result"
    }
   ],
   "source": [
    "gdf.to_file(\"del.geojson\", driver=\"GeoJSON\")\n",
    "gpd.read_file(\"del.geojson\")"
   ]
  },
  {
   "cell_type": "code",
   "execution_count": 4,
   "id": "subject-webster",
   "metadata": {},
   "outputs": [
    {
     "ename": "DriverError",
     "evalue": "'/vsigs/ml4cc_data_lake/0_DEV/0_Raw/WorldFloods/copernicus_ems/satyarth_mess/testg.geojson' does not exist in the file system, and is not recognized as a supported dataset name.",
     "output_type": "error",
     "traceback": [
      "\u001b[0;31m---------------------------------------------------------------------------\u001b[0m",
      "\u001b[0;31mCPLE_OpenFailedError\u001b[0m                      Traceback (most recent call last)",
      "\u001b[0;32mfiona/_shim.pyx\u001b[0m in \u001b[0;36mfiona._shim.gdal_open_vector\u001b[0;34m()\u001b[0m\n",
      "\u001b[0;32mfiona/_err.pyx\u001b[0m in \u001b[0;36mfiona._err.exc_wrap_pointer\u001b[0;34m()\u001b[0m\n",
      "\u001b[0;31mCPLE_OpenFailedError\u001b[0m: '/vsigs/ml4cc_data_lake/0_DEV/0_Raw/WorldFloods/copernicus_ems/satyarth_mess/testg.geojson' does not exist in the file system, and is not recognized as a supported dataset name.",
      "\nDuring handling of the above exception, another exception occurred:\n",
      "\u001b[0;31mDriverError\u001b[0m                               Traceback (most recent call last)",
      "\u001b[0;32m<ipython-input-4-61395f47d09a>\u001b[0m in \u001b[0;36m<module>\u001b[0;34m\u001b[0m\n\u001b[1;32m      1\u001b[0m \u001b[0;31m# gjson_output = \"gs://ml4cc_data_lake/0_DEV/0_Raw/WorldFloods/copernicus_ems/satyarth_mess/testg.geojson\"\u001b[0m\u001b[0;34m\u001b[0m\u001b[0;34m\u001b[0m\u001b[0;34m\u001b[0m\u001b[0m\n\u001b[0;32m----> 2\u001b[0;31m \u001b[0mgpd\u001b[0m\u001b[0;34m.\u001b[0m\u001b[0mread_file\u001b[0m\u001b[0;34m(\u001b[0m\u001b[0mnonworking_geojson\u001b[0m\u001b[0;34m,\u001b[0m \u001b[0mdriver\u001b[0m\u001b[0;34m=\u001b[0m\u001b[0;34m\"GeoJSON\"\u001b[0m\u001b[0;34m,\u001b[0m \u001b[0mencoding\u001b[0m\u001b[0;34m=\u001b[0m\u001b[0;34m\"latin-1\"\u001b[0m\u001b[0;34m)\u001b[0m\u001b[0;34m\u001b[0m\u001b[0;34m\u001b[0m\u001b[0m\n\u001b[0m\u001b[1;32m      3\u001b[0m \u001b[0;31m# gpd.read_file(\"delete.geojson\")\u001b[0m\u001b[0;34m\u001b[0m\u001b[0;34m\u001b[0m\u001b[0;34m\u001b[0m\u001b[0m\n",
      "\u001b[0;32m~/miniconda3/envs/ml4f_dj/lib/python3.8/site-packages/geopandas/io/file.py\u001b[0m in \u001b[0;36m_read_file\u001b[0;34m(filename, bbox, mask, rows, **kwargs)\u001b[0m\n\u001b[1;32m    158\u001b[0m \u001b[0;34m\u001b[0m\u001b[0m\n\u001b[1;32m    159\u001b[0m     \u001b[0;32mwith\u001b[0m \u001b[0mfiona_env\u001b[0m\u001b[0;34m(\u001b[0m\u001b[0;34m)\u001b[0m\u001b[0;34m:\u001b[0m\u001b[0;34m\u001b[0m\u001b[0;34m\u001b[0m\u001b[0m\n\u001b[0;32m--> 160\u001b[0;31m         \u001b[0;32mwith\u001b[0m \u001b[0mreader\u001b[0m\u001b[0;34m(\u001b[0m\u001b[0mpath_or_bytes\u001b[0m\u001b[0;34m,\u001b[0m \u001b[0;34m**\u001b[0m\u001b[0mkwargs\u001b[0m\u001b[0;34m)\u001b[0m \u001b[0;32mas\u001b[0m \u001b[0mfeatures\u001b[0m\u001b[0;34m:\u001b[0m\u001b[0;34m\u001b[0m\u001b[0;34m\u001b[0m\u001b[0m\n\u001b[0m\u001b[1;32m    161\u001b[0m \u001b[0;34m\u001b[0m\u001b[0m\n\u001b[1;32m    162\u001b[0m             \u001b[0;31m# In a future Fiona release the crs attribute of features will\u001b[0m\u001b[0;34m\u001b[0m\u001b[0;34m\u001b[0m\u001b[0;34m\u001b[0m\u001b[0m\n",
      "\u001b[0;32m~/miniconda3/envs/ml4f_dj/lib/python3.8/site-packages/fiona/env.py\u001b[0m in \u001b[0;36mwrapper\u001b[0;34m(*args, **kwargs)\u001b[0m\n\u001b[1;32m    398\u001b[0m     \u001b[0;32mdef\u001b[0m \u001b[0mwrapper\u001b[0m\u001b[0;34m(\u001b[0m\u001b[0;34m*\u001b[0m\u001b[0margs\u001b[0m\u001b[0;34m,\u001b[0m \u001b[0;34m**\u001b[0m\u001b[0mkwargs\u001b[0m\u001b[0;34m)\u001b[0m\u001b[0;34m:\u001b[0m\u001b[0;34m\u001b[0m\u001b[0;34m\u001b[0m\u001b[0m\n\u001b[1;32m    399\u001b[0m         \u001b[0;32mif\u001b[0m \u001b[0mlocal\u001b[0m\u001b[0;34m.\u001b[0m\u001b[0m_env\u001b[0m\u001b[0;34m:\u001b[0m\u001b[0;34m\u001b[0m\u001b[0;34m\u001b[0m\u001b[0m\n\u001b[0;32m--> 400\u001b[0;31m             \u001b[0;32mreturn\u001b[0m \u001b[0mf\u001b[0m\u001b[0;34m(\u001b[0m\u001b[0;34m*\u001b[0m\u001b[0margs\u001b[0m\u001b[0;34m,\u001b[0m \u001b[0;34m**\u001b[0m\u001b[0mkwargs\u001b[0m\u001b[0;34m)\u001b[0m\u001b[0;34m\u001b[0m\u001b[0;34m\u001b[0m\u001b[0m\n\u001b[0m\u001b[1;32m    401\u001b[0m         \u001b[0;32melse\u001b[0m\u001b[0;34m:\u001b[0m\u001b[0;34m\u001b[0m\u001b[0;34m\u001b[0m\u001b[0m\n\u001b[1;32m    402\u001b[0m             \u001b[0;32mif\u001b[0m \u001b[0misinstance\u001b[0m\u001b[0;34m(\u001b[0m\u001b[0margs\u001b[0m\u001b[0;34m[\u001b[0m\u001b[0;36m0\u001b[0m\u001b[0;34m]\u001b[0m\u001b[0;34m,\u001b[0m \u001b[0mstr\u001b[0m\u001b[0;34m)\u001b[0m\u001b[0;34m:\u001b[0m\u001b[0;34m\u001b[0m\u001b[0;34m\u001b[0m\u001b[0m\n",
      "\u001b[0;32m~/miniconda3/envs/ml4f_dj/lib/python3.8/site-packages/fiona/__init__.py\u001b[0m in \u001b[0;36mopen\u001b[0;34m(fp, mode, driver, schema, crs, encoding, layer, vfs, enabled_drivers, crs_wkt, **kwargs)\u001b[0m\n\u001b[1;32m    254\u001b[0m \u001b[0;34m\u001b[0m\u001b[0m\n\u001b[1;32m    255\u001b[0m         \u001b[0;32mif\u001b[0m \u001b[0mmode\u001b[0m \u001b[0;32min\u001b[0m \u001b[0;34m(\u001b[0m\u001b[0;34m'a'\u001b[0m\u001b[0;34m,\u001b[0m \u001b[0;34m'r'\u001b[0m\u001b[0;34m)\u001b[0m\u001b[0;34m:\u001b[0m\u001b[0;34m\u001b[0m\u001b[0;34m\u001b[0m\u001b[0m\n\u001b[0;32m--> 256\u001b[0;31m             c = Collection(path, mode, driver=driver, encoding=encoding,\n\u001b[0m\u001b[1;32m    257\u001b[0m                            layer=layer, enabled_drivers=enabled_drivers, **kwargs)\n\u001b[1;32m    258\u001b[0m         \u001b[0;32melif\u001b[0m \u001b[0mmode\u001b[0m \u001b[0;34m==\u001b[0m \u001b[0;34m'w'\u001b[0m\u001b[0;34m:\u001b[0m\u001b[0;34m\u001b[0m\u001b[0;34m\u001b[0m\u001b[0m\n",
      "\u001b[0;32m~/miniconda3/envs/ml4f_dj/lib/python3.8/site-packages/fiona/collection.py\u001b[0m in \u001b[0;36m__init__\u001b[0;34m(self, path, mode, driver, schema, crs, encoding, layer, vsi, archive, enabled_drivers, crs_wkt, ignore_fields, ignore_geometry, **kwargs)\u001b[0m\n\u001b[1;32m    160\u001b[0m             \u001b[0;32mif\u001b[0m \u001b[0mself\u001b[0m\u001b[0;34m.\u001b[0m\u001b[0mmode\u001b[0m \u001b[0;34m==\u001b[0m \u001b[0;34m'r'\u001b[0m\u001b[0;34m:\u001b[0m\u001b[0;34m\u001b[0m\u001b[0;34m\u001b[0m\u001b[0m\n\u001b[1;32m    161\u001b[0m                 \u001b[0mself\u001b[0m\u001b[0;34m.\u001b[0m\u001b[0msession\u001b[0m \u001b[0;34m=\u001b[0m \u001b[0mSession\u001b[0m\u001b[0;34m(\u001b[0m\u001b[0;34m)\u001b[0m\u001b[0;34m\u001b[0m\u001b[0;34m\u001b[0m\u001b[0m\n\u001b[0;32m--> 162\u001b[0;31m                 \u001b[0mself\u001b[0m\u001b[0;34m.\u001b[0m\u001b[0msession\u001b[0m\u001b[0;34m.\u001b[0m\u001b[0mstart\u001b[0m\u001b[0;34m(\u001b[0m\u001b[0mself\u001b[0m\u001b[0;34m,\u001b[0m \u001b[0;34m**\u001b[0m\u001b[0mkwargs\u001b[0m\u001b[0;34m)\u001b[0m\u001b[0;34m\u001b[0m\u001b[0;34m\u001b[0m\u001b[0m\n\u001b[0m\u001b[1;32m    163\u001b[0m             \u001b[0;32melif\u001b[0m \u001b[0mself\u001b[0m\u001b[0;34m.\u001b[0m\u001b[0mmode\u001b[0m \u001b[0;32min\u001b[0m \u001b[0;34m(\u001b[0m\u001b[0;34m'a'\u001b[0m\u001b[0;34m,\u001b[0m \u001b[0;34m'w'\u001b[0m\u001b[0;34m)\u001b[0m\u001b[0;34m:\u001b[0m\u001b[0;34m\u001b[0m\u001b[0;34m\u001b[0m\u001b[0m\n\u001b[1;32m    164\u001b[0m                 \u001b[0mself\u001b[0m\u001b[0;34m.\u001b[0m\u001b[0msession\u001b[0m \u001b[0;34m=\u001b[0m \u001b[0mWritingSession\u001b[0m\u001b[0;34m(\u001b[0m\u001b[0;34m)\u001b[0m\u001b[0;34m\u001b[0m\u001b[0;34m\u001b[0m\u001b[0m\n",
      "\u001b[0;32mfiona/ogrext.pyx\u001b[0m in \u001b[0;36mfiona.ogrext.Session.start\u001b[0;34m()\u001b[0m\n",
      "\u001b[0;32mfiona/_shim.pyx\u001b[0m in \u001b[0;36mfiona._shim.gdal_open_vector\u001b[0;34m()\u001b[0m\n",
      "\u001b[0;31mDriverError\u001b[0m: '/vsigs/ml4cc_data_lake/0_DEV/0_Raw/WorldFloods/copernicus_ems/satyarth_mess/testg.geojson' does not exist in the file system, and is not recognized as a supported dataset name."
     ]
    }
   ],
   "source": [
    "# gjson_output = \"gs://ml4cc_data_lake/0_DEV/0_Raw/WorldFloods/copernicus_ems/satyarth_mess/testg.geojson\"\n",
    "gpd.read_file(nonworking_geojson, driver=\"GeoJSON\", encoding=\"latin-1\")\n",
    "# gpd.read_file(\"delete.geojson\")"
   ]
  },
  {
   "cell_type": "code",
   "execution_count": 7,
   "id": "rental-contents",
   "metadata": {},
   "outputs": [
    {
     "ename": "SyntaxError",
     "evalue": "invalid syntax (<ipython-input-7-ca88a3f77d6f>, line 1)",
     "output_type": "error",
     "traceback": [
      "\u001b[0;36m  File \u001b[0;32m\"<ipython-input-7-ca88a3f77d6f>\"\u001b[0;36m, line \u001b[0;32m1\u001b[0m\n\u001b[0;31m    d = {'event_id': 'EMSR486_AOI02_DEL_PRODUCT_r1_v1', 'layer_name': 'EMSR486_AOI02_DEL_PRODUCT_observedEventA_r1_v1', 'event_type': 'Flash flood', 'satellite_date': Timestamp('2020-12-03 09:32:00+0000', tz='UTC'), 'country': 'NaN', 'satellite': 'SPOT-6-7', 'bounding_box': {'west': 9.406415916000071, 'east': 9.76157366800004, 'north': 40.691914137000026, 'south': 40.470326767000074}, 'reference_system': {'code_space': 'epsg', 'code': '4326'}, 'abstract': 'NaN', 'purpose': 'NaN', 'source': 'CopernicusEMS', 'area_of_interest_polygon': <shapely.geometry.polygon.Polygon object at 0x7f0fe63dbaf0>, 'observed_event_file': 'EMSR486_AOI02_DEL_PRODUCT_observedEventA_r1_v1.shp', 'area_of_interest_file': 'EMSR486_AOI02_DEL_PRODUCT_areaOfInterestA_r1_v1.shp', 'ems_code': 'EMSR486', 'aoi_code': 'AOI02', 'satellite_pre_event': 'SPOT-6-7', 'timestamp_pre_event': Timestamp('2020-08-23 10:07:00+0000', tz='UTC'), 'hydrology_file_a': 'EMSR486_AOI02_DEL_PRODUCT_hydrographyA_r1_v1.shp', 'hydrology_file_l': 'EMSR486_AOI02_DEL_PRODUCT_hydrographyL_r1_v1.shp'}\u001b[0m\n\u001b[0m                                                                                                                                                                                                                                                                                                                                                                                                                                                                                                                                                            ^\u001b[0m\n\u001b[0;31mSyntaxError\u001b[0m\u001b[0;31m:\u001b[0m invalid syntax\n"
     ]
    }
   ],
   "source": [
    "d = {'event_id': 'EMSR486_AOI02_DEL_PRODUCT_r1_v1', 'layer_name': 'EMSR486_AOI02_DEL_PRODUCT_observedEventA_r1_v1', 'event_type': 'Flash flood', 'satellite_date': Timestamp('2020-12-03 09:32:00+0000', tz='UTC'), 'country': 'NaN', 'satellite': 'SPOT-6-7', 'bounding_box': {'west': 9.406415916000071, 'east': 9.76157366800004, 'north': 40.691914137000026, 'south': 40.470326767000074}, 'reference_system': {'code_space': 'epsg', 'code': '4326'}, 'abstract': 'NaN', 'purpose': 'NaN', 'source': 'CopernicusEMS', 'area_of_interest_polygon': <shapely.geometry.polygon.Polygon object at 0x7f0fe63dbaf0>, 'observed_event_file': 'EMSR486_AOI02_DEL_PRODUCT_observedEventA_r1_v1.shp', 'area_of_interest_file': 'EMSR486_AOI02_DEL_PRODUCT_areaOfInterestA_r1_v1.shp', 'ems_code': 'EMSR486', 'aoi_code': 'AOI02', 'satellite_pre_event': 'SPOT-6-7', 'timestamp_pre_event': Timestamp('2020-08-23 10:07:00+0000', tz='UTC'), 'hydrology_file_a': 'EMSR486_AOI02_DEL_PRODUCT_hydrographyA_r1_v1.shp', 'hydrology_file_l': 'EMSR486_AOI02_DEL_PRODUCT_hydrographyL_r1_v1.shp'}"
   ]
  },
  {
   "cell_type": "code",
   "execution_count": null,
   "id": "abroad-integration",
   "metadata": {},
   "outputs": [],
   "source": []
  }
 ],
 "metadata": {
  "kernelspec": {
   "display_name": "Python [conda env:ml4f_dj]",
   "language": "python",
   "name": "conda-env-ml4f_dj-py"
  },
  "language_info": {
   "codemirror_mode": {
    "name": "ipython",
    "version": 3
   },
   "file_extension": ".py",
   "mimetype": "text/x-python",
   "name": "python",
   "nbconvert_exporter": "python",
   "pygments_lexer": "ipython3",
   "version": "3.8.5"
  }
 },
 "nbformat": 4,
 "nbformat_minor": 5
}
