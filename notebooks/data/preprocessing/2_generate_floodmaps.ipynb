{
 "cells": [
  {
   "cell_type": "markdown",
   "source": [
   ]
  },
  {
   "cell_type": "markdown",
    "The layers of particular value to WorldFloods are the Metadata (A), Crisis (B), and Base Data (D) layers. More specifically, we are interested retrieving:\n",
    "- A: Source and The Area of Interest (AOI)\n",
    "- B: Observed Event data for Floods\n",
    "- D: Hydrography areas and lines indicative of lakes and rivers \n",
    "\n",
    "With these data we can create a composite floodmask over an AOI. We will later obtain Sentinel-2 images associated with an AOI which we will overlay with a floodmap layer derived from A, B, and D Copernicus EMS products."
   ]
  },
  {
   "cell_type": "markdown",
    "These shapefiles will be used to compose a floodmap for use in the generation of ground truth labels to be used in a supervised learning model pipeline."
  },
  {
   "cell_type": "markdown",
   "metadata": {},
    {
     "name": "stdout",
     "output_type": "stream",
     "text": [
      "The autoreload extension is already loaded. To reload it, use:\n",
      "  %reload_ext autoreload\n"
     ]
    }
   ],
   "source": [
    "# Path based modules to allow us to save files to our local machine\n",
    "from pyprojroot import here\n",
    "import sys\n",
    "import os\n",
    "root = here(project_files=[\".here\"])\n",
    "sys.path.append(str(here()))\n",
    "\n",
    "# Geospatial modules and WorldFloods activations mapping module\n",
    "import geopandas as gpd\n",
    "import pickle\n",
    "import pandas as pd\n",
    "from src.data.copernicusEMS import activations\n",
    "%load_ext autoreload\n",
    "%autoreload 2 \n",
    "import google.cloud"
   ]
  },
  {
   "cell_type": "code",
   "source": [
    "activation = \"EMSR486\"\n",
    "csv_file = f'{root}/datasets/Copernicus_EMS_raw/table_activations_ems.csv'\n",
    "table_activations_ems = pd.read_csv(csv_file)\n",
    "\n",
    "unzip_activations_pkl = f'{root}/datasets/Copernicus_EMS_raw/unzip_files_activation.pickle'\n",
    "with open(unzip_activations_pkl, 'rb') as filehandle:\n",
    "    # read the data as binary data stream\n",
    "    unzip_files_activation = pickle.load(filehandle)"
   ]
  },
  {
   "cell_type": "code",
   "execution_count": 3,
   "id": "bigger-profit",
   "metadata": {},
   "outputs": [],
   "source": [
    "table_activations_ems = table_activations_ems.set_index(\"Code\")"
   ]
  },
  {
   "cell_type": "code",
   "execution_count": 4,
   "id": "northern-forwarding",
   "metadata": {},
   "outputs": [
    {
     "data": {
      "text/html": [
       "<div>\n",
       "<style scoped>\n",
       "    .dataframe tbody tr th:only-of-type {\n",
       "        vertical-align: middle;\n",
       "    }\n",
       "\n",
       "    .dataframe tbody tr th {\n",
       "        vertical-align: top;\n",
       "    }\n",
       "\n",
       "    .dataframe thead th {\n",
       "        text-align: right;\n",
       "    }\n",
       "</style>\n",
       "<table border=\"1\" class=\"dataframe\">\n",
       "  <thead>\n",
       "    <tr style=\"text-align: right;\">\n",
       "      <th></th>\n",
       "      <th>Title</th>\n",
       "      <th>CodeDate</th>\n",
       "      <th>Type</th>\n",
       "      <th>Country</th>\n",
       "    </tr>\n",
       "    <tr>\n",
       "      <th>Code</th>\n",
       "      <th></th>\n",
       "      <th></th>\n",
       "      <th></th>\n",
       "      <th></th>\n",
       "    </tr>\n",
       "  </thead>\n",
       "  <tbody>\n",
       "    <tr>\n",
       "      <th>EMSR502</th>\n",
       "      <td>Flood in Southern Ireland</td>\n",
       "      <td>2021-02-23</td>\n",
       "      <td>Flood</td>\n",
       "      <td>Ireland</td>\n",
       "    </tr>\n",
       "    <tr>\n",
       "      <th>EMSR501</th>\n",
       "      <td>Flood in Albania</td>\n",
       "      <td>2021-01-06</td>\n",
       "      <td>Flood</td>\n",
       "      <td>Albania</td>\n",
       "    </tr>\n",
       "    <tr>\n",
       "      <th>EMSR498</th>\n",
       "      <td>Flood in Corrèze department, France</td>\n",
       "      <td>2021-02-02</td>\n",
       "      <td>Flood</td>\n",
       "      <td>France</td>\n",
       "    </tr>\n",
       "    <tr>\n",
       "      <th>EMSR497</th>\n",
       "      <td>Flood in Germany</td>\n",
       "      <td>2021-02-01</td>\n",
       "      <td>Flood</td>\n",
       "      <td>Germany</td>\n",
       "    </tr>\n",
       "    <tr>\n",
       "      <th>EMSR496</th>\n",
       "      <td>Flood in Lazio Region, Italy</td>\n",
       "      <td>2021-01-26</td>\n",
       "      <td>Flood</td>\n",
       "      <td>Italy</td>\n",
       "    </tr>\n",
       "    <tr>\n",
       "      <th>...</th>\n",
       "      <td>...</td>\n",
       "      <td>...</td>\n",
       "      <td>...</td>\n",
       "      <td>...</td>\n",
       "    </tr>\n",
       "    <tr>\n",
       "      <th>EMSR223</th>\n",
       "      <td>Windfall damage in Poland</td>\n",
       "      <td>2017-08-12</td>\n",
       "      <td>Storm</td>\n",
       "      <td>Poland</td>\n",
       "    </tr>\n",
       "    <tr>\n",
       "      <th>EMSR215</th>\n",
       "      <td>Flood in Braunschweig</td>\n",
       "      <td>2017-07-27</td>\n",
       "      <td>Flood</td>\n",
       "      <td>Germany</td>\n",
       "    </tr>\n",
       "    <tr>\n",
       "      <th>EMSR205</th>\n",
       "      <td>Floods in Sabaragamuwa/West, Sri Lanka</td>\n",
       "      <td>2017-05-24</td>\n",
       "      <td>Flood</td>\n",
       "      <td>Sri Lanka</td>\n",
       "    </tr>\n",
       "    <tr>\n",
       "      <th>EMSR203</th>\n",
       "      <td>Floods in Central US</td>\n",
       "      <td>2017-04-28</td>\n",
       "      <td>Flood</td>\n",
       "      <td>United States</td>\n",
       "    </tr>\n",
       "    <tr>\n",
       "      <th>EMSR199</th>\n",
       "      <td>Floods in Peru</td>\n",
       "      <td>2017-03-22</td>\n",
       "      <td>Flood</td>\n",
       "      <td>Peru</td>\n",
       "    </tr>\n",
       "  </tbody>\n",
       "</table>\n",
       "<p>151 rows × 4 columns</p>\n",
       "</div>"
      ],
      "text/plain": [
       "                                          Title    CodeDate   Type  \\\n",
       "Code                                                                 \n",
       "EMSR502               Flood in Southern Ireland  2021-02-23  Flood   \n",
       "EMSR501                        Flood in Albania  2021-01-06  Flood   \n",
       "EMSR498     Flood in Corrèze department, France  2021-02-02  Flood   \n",
       "EMSR497                        Flood in Germany  2021-02-01  Flood   \n",
       "EMSR496            Flood in Lazio Region, Italy  2021-01-26  Flood   \n",
       "...                                         ...         ...    ...   \n",
       "EMSR223               Windfall damage in Poland  2017-08-12  Storm   \n",
       "EMSR215                   Flood in Braunschweig  2017-07-27  Flood   \n",
       "EMSR205  Floods in Sabaragamuwa/West, Sri Lanka  2017-05-24  Flood   \n",
       "EMSR203                    Floods in Central US  2017-04-28  Flood   \n",
       "EMSR199                          Floods in Peru  2017-03-22  Flood   \n",
       "\n",
       "               Country  \n",
       "Code                    \n",
       "EMSR502        Ireland  \n",
       "EMSR501        Albania  \n",
       "EMSR498         France  \n",
       "EMSR497        Germany  \n",
       "EMSR496          Italy  \n",
       "...                ...  \n",
       "EMSR223         Poland  \n",
       "EMSR215        Germany  \n",
       "EMSR205      Sri Lanka  \n",
       "EMSR203  United States  \n",
       "EMSR199           Peru  \n",
       "\n",
       "[151 rows x 4 columns]"
      ]
     },
     "execution_count": 4,
     "metadata": {},
     "output_type": "execute_result"
    }
   ],
   "source": [
    "table_activations_ems"
   ]
  },
  {
   "cell_type": "markdown",
   "id": "shared-township",
   "metadata": {},
   "source": [
    "### 1a - Process Shapefiles \n",
    "\n",
    "In function `filter_register_copernicusems` we check that all the `.shp` follow the expected conventions with respect to timestamp and data availability.\n",
    "\n",
    "### 1b - Populate Copernicus EMSR Metadata Dictionary\n",
    "`filter_register_copernicusems` upon extracting the source, AOI, observed event, and hydrography information, will populate a dictionary with keys associated with the source data and hold the filenames and paths of specific `.shp` files as values. \n",
    "\n",
    "## 2 - Generate Floodmap\n",
    "\n",
    "We then process the `.shp` files area of interest, observed event, and the hydrography into a single `geopandas.GeoDataFrame` object using `generate_floodmap`. This information will be eventually saved in the WorldFloods database.\n"
   ]
  },
  {
   "cell_type": "markdown",
   "id": "filled-dubai",
   "metadata": {},
   "source": [
    "Note that steps 1a, 1b, and 2 occur in the cell block below.\n",
    "\n",
    "- `filter_register_copernicusems` is called to retrieve shape files and populate a Copernicus metadata dictionary.\n",
    "- `generate_floodmap` retrieves the polygons associated with individual shapefiles and constructs a geopandas DataFrame consolidated the polygons over a particular AOI for an EMSR alert."
   ]
  },
  {
   "cell_type": "code",
   "execution_count": 5,
   "id": "commercial-equality",
   "metadata": {},
   "outputs": [
    {
     "name": "stdout",
     "output_type": "stream",
     "text": [
      "['Copernicus_EMS_raw/EMSR486/EMSR486_AOI02_DEL_PRODUCT_r1_VECTORS_v1_vector', 'Copernicus_EMS_raw/EMSR486/EMSR486_AOI06_GRA_PRODUCT_r1_VECTORS_v1_vector']\n"
     ]
    }
   ],
   "source": [
    "print(find_vector(unzip_files_activation))"
   ]
  },
  {
   "cell_type": "code",
   "execution_count": 14,
   "id": "coupled-alfred",
   "metadata": {},
   "outputs": [
    {
     "data": {
      "text/plain": [
       "['Copernicus_EMS_raw/EMSR486/EMSR486_AOI02_DEL_PRODUCT_r1_VECTORS_v1_vector',\n",
       " 'Copernicus_EMS_raw/EMSR486/EMSR486_AOI06_GRA_PRODUCT_r1_VECTORS_v1_vector']"
      ]
     },
     "execution_count": 14,
     "metadata": {},
     "output_type": "execute_result"
    }
   ],
   "source": [
    "unzip_files_activation_new"
   ]
  },
  {
   "cell_type": "code",
   "execution_count": 20,
   "id": "academic-johns",
   "metadata": {},
   "outputs": [],
   "source": [
    "from src.data.utils import create_folder"
   ]
  },
  {
   "cell_type": "code",
   "execution_count": 21,
   "id": "square-indiana",
   "metadata": {},
   "outputs": [
    {
     "name": "stdout",
     "output_type": "stream",
     "text": [
      "Folder 'CopernicusEMS_floodmap_metadata/EMSR486' is created.\n"
     ]
    }
   ],
   "source": [
    "folder_in_unzipped = f\"CopernicusEMS_unzipped/{activation}\"\n",
    "folder_out_meta=f\"CopernicusEMS_floodmap_metadata/{activation}\" # new folder Copernicus_EMS_\n",
    "create_folder(folder_out_meta)"
   ]
  },
  {
   "cell_type": "code",
   "execution_count": 26,
   "id": "vulnerable-hygiene",
   "metadata": {},
   "outputs": [
    {
     "data": {
      "text/plain": [
       "{'event id': 'EMSR486_AOI06_GRA_PRODUCT_r1_VECTORS_v1_vector',\n",
       " 'layer name': 'EMSR486_AOI06_GRA_PRODUCT_observedEventA_r1_v1',\n",
       " 'event type': 'Riverine flood',\n",
       " 'satellite date': Timestamp('2020-12-03 10:01:31+0000', tz='UTC'),\n",
       " 'country': 'NaN',\n",
       " 'satellite': 'Pleiades-1A-1B',\n",
       " 'bounding box': {'west': 9.643201334000025,\n",
       "  'east': 9.73205387300004,\n",
       "  'north': 40.64975631800007,\n",
       "  'south': 40.62699216500005},\n",
       " 'reference system': {'code space': 'epsg', 'code': '4326'},\n",
       " 'abstract': 'NaN',\n",
       " 'purpose': 'NaN',\n",
       " 'source': 'CopernicusEMS',\n",
       " 'area_of_interest_polygon': <shapely.geometry.polygon.Polygon at 0x7f6380309760>,\n",
       " 'observed_event_file': 'EMSR486_AOI06_GRA_PRODUCT_observedEventA_r1_v1.shp',\n",
       " 'area_of_interest_file': 'EMSR486_AOI06_GRA_PRODUCT_areaOfInterestA_r1_v1.shp',\n",
       " 'ems_code': 'EMSR486',\n",
       " 'satellite_pre_event': 'Pleiades-1A-1B',\n",
       " 'timestamp_pre_event': Timestamp('2020-05-07 10:15:57+0000', tz='UTC'),\n",
       " 'hydrology_file': 'EMSR486_AOI06_GRA_PRODUCT_hydrographyA_r1_v1.shp',\n",
       " 'hydrology_file_l': 'EMSR486_AOI06_GRA_PRODUCT_hydrographyL_r1_v1.shp',\n",
       " 'directory_location': 'CopernicusEMS_unzipped/EMSR486/EMSR486_AOI06_GRA_PRODUCT_r1_VECTORS_v1_vector'}"
      ]
     },
     "execution_count": 26,
     "metadata": {},
     "output_type": "execute_result"
    }
   ],
   "source": [
    "metadata_floodmap"
   ]
  },
  {
   "cell_type": "code",
   "execution_count": 30,
   "id": "cubic-pricing",
   "metadata": {},
   "outputs": [],
   "source": [
    "\n",
    "code_date = table_activations_ems.loc[activation][\"CodeDate\"]\n",
    "\n",
    "registers = []\n",
    "unzip_files_activation_new = find_vector(unzip_files_activation)\n",
    "\n",
    "# for each folder in list of folders from extracted Copernicus EMS zip file\n",
    "for unzip_folder in unzip_files_activation_new:\n",
    "    \n",
    "    # filters extracted files for trio of Copernicus EMS Mapping products: AOI, Observed Event, Hydrography\n",
    "    metadata_floodmap = activations.filter_register_copernicusems(unzip_folder, code_date)\n",
    "    metadata_floodmap[\"directory_location\"] = folder_in_unzipped\n",
    "    \n",
    "    if metadata_floodmap is not None:\n",
    "        #SAVE FILE\n",
    "        # save metadata_floodmap as a .pkl file\n",
    "        name = f\"{folder_out_meta}/{metadata_floodmap['event id']}.pkl\"\n",
    "        with open(name, 'wb') as filehandle:\n",
    "            # store the data as binary data stream\n",
    "            pickle.dump(metadata_floodmap, filehandle)        \n",
    "\n",
    "#  #       registers.append({\"metadata_floodmap\": metadata_floodmap, \"floodmap\": floodmap})\n",
    "#         print(f\"File {unzip_folder} processed correctly\")\n",
    "#     else:\n",
    "#         print(f\"File {unzip_folder} does not follow the expected format. It won't be processed\")\n"
   ]
  },
  {
   "cell_type": "markdown",
   "id": "responsible-salvation",
   "metadata": {},
   "outputs": [],
   "source": [
    "from src.data.utils import get_files_in_directory"
   ]
  },
  {
   "cell_type": "code",
   "execution_count": 6,
   "id": "automotive-figure",
   "metadata": {},
   "outputs": [
    {
     "name": "stdout",
     "output_type": "stream",
     "text": [
      "Folder 'CopernicusEMS_floodmap_geojson/EMSR486' Is Already There.\n",
      "Folder 'CopernicusEMS_floodmap_geojson/EMSR486' Is Already There.\n"
     ]
    }
   ],
   "source": [
    "import pickle\n",
    "\n",
    "for metadata_fl_map in metadata_files_in_directory:\n",
    "    with open(metadata_fl_map, 'rb') as filehandle:\n",
    "        # read the data as binary data stream\n",
    "        i_meta_floodmap = pickle.load(filehandle)\n",
    "\n",
    "        # call generate_floodmap combination of polygons(observed + hydrography) over an event AOI (GeoPandas dataframe)\n",
    "        floodmap = activations.generate_floodmap(i_meta_floodmap, folder_files = i_meta_floodmap[\"directory_location\"])\n",
    "        \n",
    "        # save floodmap as a geojson\n",
    "        name_floodmap_file = f\"{folder_out}/{i_meta_floodmap['event id']}.geojson\"\n",
    "        create_folder(folder_out)\n",
    "        floodmap.to_file(name_floodmap_file, driver='GeoJSON')\n",
    "\n"
   ]
  },
  {
   "cell_type": "code",
   "execution_count": 35,
   "id": "miniature-salad",
   "metadata": {},
   "outputs": [
    {
     "data": {
      "text/html": [
       "<div>\n",
       "<style scoped>\n",
       "    .dataframe tbody tr th:only-of-type {\n",
       "        vertical-align: middle;\n",
       "    }\n",
       "\n",
       "    .dataframe tbody tr th {\n",
       "        vertical-align: top;\n",
       "    }\n",
       "\n",
       "    .dataframe thead th {\n",
       "        text-align: right;\n",
       "    }\n",
       "</style>\n",
       "<table border=\"1\" class=\"dataframe\">\n",
       "  <thead>\n",
       "    <tr style=\"text-align: right;\">\n",
       "      <th></th>\n",
       "      <th>geometry</th>\n",
       "      <th>w_class</th>\n",
       "      <th>source</th>\n",
       "    </tr>\n",
       "  </thead>\n",
       "  <tbody>\n",
       "    <tr>\n",
       "      <th>0</th>\n",
       "      <td>MULTIPOLYGON (((9.71259 40.64228, 9.71245 40.6...</td>\n",
       "      <td>Flooded area</td>\n",
       "      <td>flood</td>\n",
       "    </tr>\n",
       "    <tr>\n",
       "      <th>1</th>\n",
       "      <td>MULTIPOLYGON (((9.65320 40.62754, 9.65318 40.6...</td>\n",
       "      <td>Flooded area</td>\n",
       "      <td>flood</td>\n",
       "    </tr>\n",
       "    <tr>\n",
       "      <th>2</th>\n",
       "      <td>POLYGON ((9.64421 40.62988, 9.64411 40.62988, ...</td>\n",
       "      <td>Flooded area</td>\n",
       "      <td>flood</td>\n",
       "    </tr>\n",
       "    <tr>\n",
       "      <th>3</th>\n",
       "      <td>MULTIPOLYGON (((9.70369 40.63643, 9.70363 40.6...</td>\n",
       "      <td>Flooded area</td>\n",
       "      <td>flood</td>\n",
       "    </tr>\n",
       "    <tr>\n",
       "      <th>4</th>\n",
       "      <td>MULTIPOLYGON (((9.69035 40.63546, 9.69030 40.6...</td>\n",
       "      <td>Flooded area</td>\n",
       "      <td>flood</td>\n",
       "    </tr>\n",
       "    <tr>\n",
       "      <th>...</th>\n",
       "      <td>...</td>\n",
       "      <td>...</td>\n",
       "      <td>...</td>\n",
       "    </tr>\n",
       "    <tr>\n",
       "      <th>91</th>\n",
       "      <td>LINESTRING (9.70625 40.63070, 9.70623 40.63075)</td>\n",
       "      <td>BH140-River</td>\n",
       "      <td>hydro_l</td>\n",
       "    </tr>\n",
       "    <tr>\n",
       "      <th>92</th>\n",
       "      <td>LINESTRING (9.70660 40.62900, 9.70660 40.62946...</td>\n",
       "      <td>BH140-River</td>\n",
       "      <td>hydro_l</td>\n",
       "    </tr>\n",
       "    <tr>\n",
       "      <th>93</th>\n",
       "      <td>LINESTRING (9.71038 40.62231, 9.71121 40.62346...</td>\n",
       "      <td>BH140-River</td>\n",
       "      <td>hydro_l</td>\n",
       "    </tr>\n",
       "    <tr>\n",
       "      <th>94</th>\n",
       "      <td>LINESTRING (9.64349 40.62817, 9.64382 40.62808...</td>\n",
       "      <td>BH140-River</td>\n",
       "      <td>hydro_l</td>\n",
       "    </tr>\n",
       "    <tr>\n",
       "      <th>95</th>\n",
       "      <td>POLYGON ((9.73211 40.65042, 9.73126 40.63468, ...</td>\n",
       "      <td>area_of_interest</td>\n",
       "      <td>area_of_interest</td>\n",
       "    </tr>\n",
       "  </tbody>\n",
       "</table>\n",
       "<p>96 rows × 3 columns</p>\n",
       "</div>"
      ],
      "text/plain": [
       "                                             geometry           w_class  \\\n",
       "0   MULTIPOLYGON (((9.71259 40.64228, 9.71245 40.6...      Flooded area   \n",
       "1   MULTIPOLYGON (((9.65320 40.62754, 9.65318 40.6...      Flooded area   \n",
       "2   POLYGON ((9.64421 40.62988, 9.64411 40.62988, ...      Flooded area   \n",
       "3   MULTIPOLYGON (((9.70369 40.63643, 9.70363 40.6...      Flooded area   \n",
       "4   MULTIPOLYGON (((9.69035 40.63546, 9.69030 40.6...      Flooded area   \n",
       "..                                                ...               ...   \n",
       "91    LINESTRING (9.70625 40.63070, 9.70623 40.63075)       BH140-River   \n",
       "92  LINESTRING (9.70660 40.62900, 9.70660 40.62946...       BH140-River   \n",
       "93  LINESTRING (9.71038 40.62231, 9.71121 40.62346...       BH140-River   \n",
       "94  LINESTRING (9.64349 40.62817, 9.64382 40.62808...       BH140-River   \n",
       "95  POLYGON ((9.73211 40.65042, 9.73126 40.63468, ...  area_of_interest   \n",
       "\n",
       "              source  \n",
       "0              flood  \n",
       "1              flood  \n",
       "2              flood  \n",
       "3              flood  \n",
       "4              flood  \n",
       "..               ...  \n",
       "91           hydro_l  \n",
       "92           hydro_l  \n",
       "93           hydro_l  \n",
       "94           hydro_l  \n",
       "95  area_of_interest  \n",
       "\n",
       "[96 rows x 3 columns]"
      ]
     },
     "execution_count": 35,
     "metadata": {},
     "output_type": "execute_result"
    }
   ],
   "source": [
    "floodmap"
   ]
  },
  {
   "cell_type": "code",
   "execution_count": 10,
   "id": "plastic-phenomenon",
   "metadata": {},
   "outputs": [
    {
     "name": "stdout",
     "output_type": "stream",
     "text": [
      "File Copernicus_EMS_raw/EMSR486/EMSR486_AOI02_DEL_PRODUCT_r1_VECTORS_v1_vector processed correctly\n",
      "File Copernicus_EMS_raw/EMSR486/EMSR486_AOI06_GRA_PRODUCT_r1_VECTORS_v1_vector processed correctly\n"
     ]
    }
   ],
   "source": [
    "folder_out=f\"Copernicus_EMS_raw/{activation}\" # new folder Copernicus_EMS_\n",
    "\n",
    "code_date = table_activations_ems.loc[activation][\"CodeDate\"]\n",
    "\n",
    "registers = []\n",
    "unzip_files_activation_new = find_vector(unzip_files_activation)\n",
    "\n",
    "# for each folder in list of folders from extracted Copernicus EMS zip file\n",
    "for unzip_folder in unzip_files_activation_new:\n",
    "    \n",
    "    # filters extracted files for trio of Copernicus EMS Mapping products: AOI, Observed Event, Hydrography\n",
    "    metadata_floodmap = activations.filter_register_copernicusems(unzip_folder, code_date)\n",
    "    \n",
    "    if metadata_floodmap is not None:\n",
    "        \n",
    "        #SAVE FILE\n",
    "        \n",
    "        # call generate_floodmap combination of polygons(observed + hydrography) over an event AOI (GeoPandas dataframe)\n",
    "        floodmap = activations.generate_floodmap(metadata_floodmap, folder_files=folder_out)\n",
    "        \n",
    "        # save floodmap as a geojson\n",
    "        floodmap.to_file(f\"{metadata_floodmap['event id']}.geojson\", driver='GeoJSON')\n",
    "        \n",
    "        # save metadata_floodmap as a .pkl file\n",
    "        with open(f\"{metadata_floodmap['event id']}.pkl\", 'wb') as filehandle:\n",
    "            # store the data as binary data stream\n",
    "            pickle.dump(metadata_floodmap, filehandle)\n",
    "\n",
    " #       registers.append({\"metadata_floodmap\": metadata_floodmap, \"floodmap\": floodmap})\n",
    "        print(f\"File {unzip_folder} processed correctly\")\n",
    "    else:\n",
    "        print(f\"File {unzip_folder} does not follow the expected format. It won't be processed\")\n"
   ]
  },
  {
   "cell_type": "code",
   "execution_count": 7,
   "id": "sunrise-revolution",
   "metadata": {},
   "outputs": [
    {
     "data": {
      "text/plain": [
       "{'event id': 'EMSR486_AOI06_GRA_PRODUCT_r1_VECTORS_v1_vector',\n",
       " 'layer name': 'EMSR486_AOI06_GRA_PRODUCT_observedEventA_r1_v1',\n",
       " 'event type': 'Riverine flood',\n",
       " 'satellite date': Timestamp('2020-12-03 10:01:31+0000', tz='UTC'),\n",
       " 'country': 'NaN',\n",
       " 'satellite': 'Pleiades-1A-1B',\n",
       " 'bounding box': {'west': 9.643201334000025,\n",
       "  'east': 9.73205387300004,\n",
       "  'north': 40.64975631800007,\n",
       "  'south': 40.62699216500005},\n",
       " 'reference system': {'code space': 'epsg', 'code': '4326'},\n",
       " 'abstract': 'NaN',\n",
       " 'purpose': 'NaN',\n",
       " 'source': 'CopernicusEMS',\n",
       " 'area_of_interest_polygon': <shapely.geometry.polygon.Polygon at 0x7f4b4f998b80>,\n",
       " 'observed_event_file': 'EMSR486_AOI06_GRA_PRODUCT_observedEventA_r1_v1.shp',\n",
       " 'area_of_interest_file': 'EMSR486_AOI06_GRA_PRODUCT_areaOfInterestA_r1_v1.shp',\n",
       " 'ems_code': 'EMSR486',\n",
       " 'satellite_pre_event': 'Pleiades-1A-1B',\n",
       " 'timestamp_pre_event': Timestamp('2020-05-07 10:15:57+0000', tz='UTC'),\n",
       " 'hydrology_file': 'EMSR486_AOI06_GRA_PRODUCT_hydrographyA_r1_v1.shp',\n",
       " 'hydrology_file_l': 'EMSR486_AOI06_GRA_PRODUCT_hydrographyL_r1_v1.shp'}"
      ]
     },
     "execution_count": 7,
     "metadata": {},
     "output_type": "execute_result"
    }
   ],
   "source": [
    "metadata_floodmap = registers[-1][\"metadata_floodmap\"]\n",
    "floodmap = registers[-1][\"floodmap\"]\n",
    "metadata_floodmap"
   ]
  },
  {
   "cell_type": "code",
   "execution_count": 8,
   "id": "virgin-stomach",
   "metadata": {},
   "outputs": [
    {
     "data": {
      "image/svg+xml": [
       "<svg xmlns=\"http://www.w3.org/2000/svg\" xmlns:xlink=\"http://www.w3.org/1999/xlink\" width=\"100.0\" height=\"100.0\" viewBox=\"9.638982500520072 40.612418157520054 0.09813791195998078 0.04163252995996913\" preserveAspectRatio=\"xMinYMin meet\"><g transform=\"matrix(1,0,0,-1,0,81.26646884500008)\"><path fill-rule=\"evenodd\" fill=\"#66cc99\" stroke=\"#555555\" stroke-width=\"0.0019627582391996156\" opacity=\"0.6\" d=\"M 9.732106741000052,40.650415950000024 L 9.73126376600004,40.63467995600007 L 9.733485675000054,40.62789807100006 L 9.729420502000039,40.62089771800004 L 9.724248289000059,40.62205296800005 L 9.717269589000068,40.62160328300007 L 9.712004884000066,40.62173192800003 L 9.70263367800004,40.625094026000056 L 9.690964455000028,40.622459452000044 L 9.685534988000029,40.620554439000045 L 9.68447264100007,40.617327540000076 L 9.681479871000022,40.61709714600005 L 9.675397832000044,40.61605289500005 L 9.666978021000034,40.621524484000076 L 9.644253131000028,40.61829781800003 L 9.64261723800007,40.63947400500007 L 9.662431147000063,40.63855596900004 L 9.681367913000031,40.64708456300008 L 9.689255881000065,40.64578942400004 L 9.698994492000054,40.64189968800008 L 9.732106741000052,40.650415950000024 z\" /></g></svg>"
      ],
      "text/plain": [
       "<shapely.geometry.polygon.Polygon at 0x7f4b4f998b80>"
      ]
     },
     "execution_count": 8,
     "metadata": {},
     "output_type": "execute_result"
    }
   ],
   "source": [
    "metadata_floodmap[\"area_of_interest_polygon\"]"
   ]
  },
  {
   "cell_type": "code",
   "execution_count": 9,
   "id": "republican-navigation",
   "metadata": {},
   "outputs": [
    {
     "data": {
      "text/plain": [
       "'Pleiades-1A-1B'"
      ]
     },
     "execution_count": 9,
     "metadata": {},
     "output_type": "execute_result"
    }
   ],
   "source": [
    "metadata_floodmap['satellite']"
   ]
  },
  {
   "cell_type": "code",
   "execution_count": 10,
   "id": "conscious-occurrence",
   "metadata": {},
   "outputs": [
    {
     "data": {
      "text/plain": [
       "Timestamp('2020-12-03 10:01:31+0000', tz='UTC')"
      ]
     },
     "execution_count": 10,
     "metadata": {},
     "output_type": "execute_result"
    }
   ],
   "source": [
    "metadata_floodmap['satellite date']"
   ]
  },
  {
   "cell_type": "markdown",
   "id": "collectible-suspension",
   "metadata": {},
   "source": [
    "We can also directly explore the `floodmap` object (an instance of `geopandas.GeoDataFrame`). This object contains the labeled polygons (observed event file), the pre-existing water bodies (hydrography file) and the area of interest in a single object."
   ]
  },
  {
   "cell_type": "code",
   "execution_count": 11,
   "id": "welsh-absence",
   "metadata": {},
   "outputs": [
    {
     "data": {
      "text/html": [
       "<div>\n",
       "<style scoped>\n",
       "    .dataframe tbody tr th:only-of-type {\n",
       "        vertical-align: middle;\n",
       "    }\n",
       "\n",
       "    .dataframe tbody tr th {\n",
       "        vertical-align: top;\n",
       "    }\n",
       "\n",
       "    .dataframe thead th {\n",
       "        text-align: right;\n",
       "    }\n",
       "</style>\n",
       "<table border=\"1\" class=\"dataframe\">\n",
       "  <thead>\n",
       "    <tr style=\"text-align: right;\">\n",
       "      <th></th>\n",
       "      <th>geometry</th>\n",
       "      <th>w_class</th>\n",
       "      <th>source</th>\n",
       "    </tr>\n",
       "  </thead>\n",
       "  <tbody>\n",
       "    <tr>\n",
       "      <th>0</th>\n",
       "      <td>MULTIPOLYGON (((9.71259 40.64228, 9.71245 40.6...</td>\n",
       "      <td>Flooded area</td>\n",
       "      <td>flood</td>\n",
       "    </tr>\n",
       "    <tr>\n",
       "      <th>1</th>\n",
       "      <td>MULTIPOLYGON (((9.65320 40.62754, 9.65318 40.6...</td>\n",
       "      <td>Flooded area</td>\n",
       "      <td>flood</td>\n",
       "    </tr>\n",
       "    <tr>\n",
       "      <th>2</th>\n",
       "      <td>POLYGON ((9.64421 40.62988, 9.64411 40.62988, ...</td>\n",
       "      <td>Flooded area</td>\n",
       "      <td>flood</td>\n",
       "    </tr>\n",
       "    <tr>\n",
       "      <th>3</th>\n",
       "      <td>MULTIPOLYGON (((9.70369 40.63643, 9.70363 40.6...</td>\n",
       "      <td>Flooded area</td>\n",
       "      <td>flood</td>\n",
       "    </tr>\n",
       "    <tr>\n",
       "      <th>4</th>\n",
       "      <td>MULTIPOLYGON (((9.69035 40.63546, 9.69030 40.6...</td>\n",
       "      <td>Flooded area</td>\n",
       "      <td>flood</td>\n",
       "    </tr>\n",
       "  </tbody>\n",
       "</table>\n",
       "</div>"
      ],
      "text/plain": [
       "                                            geometry       w_class source\n",
       "0  MULTIPOLYGON (((9.71259 40.64228, 9.71245 40.6...  Flooded area  flood\n",
       "1  MULTIPOLYGON (((9.65320 40.62754, 9.65318 40.6...  Flooded area  flood\n",
       "2  POLYGON ((9.64421 40.62988, 9.64411 40.62988, ...  Flooded area  flood\n",
       "3  MULTIPOLYGON (((9.70369 40.63643, 9.70363 40.6...  Flooded area  flood\n",
       "4  MULTIPOLYGON (((9.69035 40.63546, 9.69030 40.6...  Flooded area  flood"
      ]
     },
     "execution_count": 11,
     "metadata": {},
     "output_type": "execute_result"
    }
   ],
   "source": [
    "floodmap.head()"
   ]
  },
  {
   "cell_type": "code",
   "execution_count": 12,
   "id": "emotional-veteran",
   "metadata": {},
   "outputs": [],
   "source": [
    "floodmap_geojson = \"floodmap.geojson\"\n",
    "geojson_filepath = f\"{root}/datasets/Copernicus_EMS_raw/{floodmap_geojson}\"\n",
    "floodmap.to_file(geojson_filepath, driver='GeoJSON')"
   ]
  },
  {
   "cell_type": "code",
   "execution_count": 13,
   "id": "capable-woman",
   "metadata": {},
   "outputs": [],
   "source": [
    "# load additional module\n",
    "import pickle\n",
    "\n",
    "with open('metadata_floodmap.pkl', 'wb') as filehandle:\n",
    "    # store the data as binary data stream\n",
    "    pickle.dump(metadata_floodmap, filehandle)\n",
    "\n",
    "    "
   ]
  },
  {
   "cell_type": "code",
   "execution_count": 9,
   "id": "higher-february",
   "metadata": {},
   "outputs": [
    {
     "ename": "NameError",
     "evalue": "name 'metadata_floodmap' is not defined",
     "output_type": "error",
     "traceback": [
      "\u001b[0;31m---------------------------------------------------------------------------\u001b[0m",
      "\u001b[0;31mNameError\u001b[0m                                 Traceback (most recent call last)",
      "\u001b[0;32m<ipython-input-9-2d32da082b85>\u001b[0m in \u001b[0;36m<module>\u001b[0;34m\u001b[0m\n\u001b[0;32m----> 1\u001b[0;31m \u001b[0mtype\u001b[0m\u001b[0;34m(\u001b[0m\u001b[0mmetadata_floodmap\u001b[0m\u001b[0;34m)\u001b[0m\u001b[0;34m\u001b[0m\u001b[0;34m\u001b[0m\u001b[0m\n\u001b[0m",
      "\u001b[0;31mNameError\u001b[0m: name 'metadata_floodmap' is not defined"
     ]
    }
   ],
   "source": [
    "type(metadata_floodmap)"
   ]
  },
  {
   "cell_type": "code",
   "execution_count": null,
   "id": "acceptable-update",
   "metadata": {},
   "outputs": [],
   "source": []
  }
 ],
 "metadata": {
  "kernelspec": {
   "display_name": "Python [conda env:ml4f_dj]",
   "language": "python",
   "name": "conda-env-ml4f_dj-py"
  },
  "language_info": {
   "codemirror_mode": {
    "name": "ipython",
    "version": 3
   },
   "file_extension": ".py",
   "mimetype": "text/x-python",
   "name": "python",
   "nbconvert_exporter": "python",
   "pygments_lexer": "ipython3",
   "version": "3.8.5"
  }
 },
 "nbformat": 4,
 "nbformat_minor": 5
}
