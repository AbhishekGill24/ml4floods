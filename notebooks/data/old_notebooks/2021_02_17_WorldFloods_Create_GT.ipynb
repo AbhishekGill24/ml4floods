{
 "cells": [
  {
   "cell_type": "markdown",
   "id": "instrumental-glossary",
   "metadata": {},
   "source": [
    "# Create Ground Truth Data\n",
    "\n",
    "This notebook will do a short demonstration of how we can load some image and then perform the ground truth labeling procedure.\n",
    "\n",
    "\n",
    "**Source**: [Original Repo](https://gitlab.com/frontierdevelopmentlab/disaster-prevention/cubesatfloods/-/blob/master/preprocessing/build_gtmasks.py)"
   ]
  },
  {
   "cell_type": "markdown",
   "id": "coordinate-street",
   "metadata": {},
   "source": [
    "#### Load Packages"
   ]
  },
  {
   "cell_type": "code",
   "execution_count": 6,
   "id": "arabic-certification",
   "metadata": {},
   "outputs": [
    {
     "name": "stdout",
     "output_type": "stream",
     "text": [
      "The autoreload extension is already loaded. To reload it, use:\n",
      "  %reload_ext autoreload\n"
     ]
    }
   ],
   "source": [
    "# Helpful trick for loading the directories correction\n",
    "import sys, os\n",
    "from pyprojroot import here\n",
    "\n",
    "# spyder up to find the root\n",
    "root = here(project_files=[\".here\"])\n",
    "\n",
    "# append to path\n",
    "sys.path.append(str(here()))\n",
    "\n",
    "# MATPLOTLIB Settings\n",
    "import matplotlib as mpl\n",
    "import matplotlib.pyplot as plt\n",
    "%matplotlib inline\n",
    "%config InlineBackend.figure_format = 'retina'\n",
    "\n",
    "# SEABORN SETTINGS\n",
    "import seaborn as sns\n",
    "sns.set_context(context='talk',font_scale=0.7)\n",
    "\n",
    "%load_ext autoreload\n",
    "%autoreload 2"
   ]
  },
  {
   "cell_type": "markdown",
   "id": "connected-fortune",
   "metadata": {},
   "source": [
    "## Open File"
   ]
  },
  {
   "cell_type": "code",
   "execution_count": 7,
   "id": "amber-glucose",
   "metadata": {},
   "outputs": [],
   "source": [
    "from pathlib import Path"
   ]
  },
  {
   "cell_type": "code",
   "execution_count": 8,
   "id": "coupled-republic",
   "metadata": {},
   "outputs": [
    {
     "name": "stdout",
     "output_type": "stream",
     "text": [
      "gs://ml4floods/worldfloods/public/train/S2/01042016_Holmes_Creek_at_Vernon_FL.tif\n"
     ]
    }
   ],
   "source": [
    "gs_index = \"gs://\"\n",
    "bucket_id = \"ml4floods\"\n",
    "path = \"worldfloods/public/\"\n",
    "sub_dir = \"train/S2\"\n",
    "file_name = \"01042016_Holmes_Creek_at_Vernon_FL.tif\"\n",
    "\n",
    "\n",
    "full_path = gs_index + str(Path(bucket_id).joinpath(path).joinpath(sub_dir).joinpath(file_name))\n",
    "print(full_path)\n"
   ]
  },
  {
   "cell_type": "markdown",
   "id": "offensive-maintenance",
   "metadata": {},
   "source": [
    "### 1 - Open Image File\n",
    "\n",
    "**TODO**: THIS SHOULD ALREADY BE SOME DATACLASS LOADER"
   ]
  },
  {
   "cell_type": "code",
   "execution_count": 17,
   "id": "ordered-hearing",
   "metadata": {},
   "outputs": [
    {
     "name": "stdout",
     "output_type": "stream",
     "text": [
      "WorldFloodsImage(filename='worldfloods/public/train/S2/01042016_Choctawhatchee_River_near_Bellwood_AL.tif', uri=None, filepath=None, bucket_id=None, product_id=None, load_date=datetime.datetime(2021, 2, 17, 18, 54, 13, 497044), source_system='Not Specified')\n"
     ]
    }
   ],
   "source": [
    "from src.data.worldfloods.download import download_image, get_image_path\n",
    "from src.data.worldfloods.dataset import WorldFloodsImage\n",
    "\n",
    "# filename\n",
    "file_name = \"worldfloods/public/train/S2/01042016_Choctawhatchee_River_near_Bellwood_AL.tif\"\n",
    "bucket_id = \"ml4floods\"\n",
    "\n",
    "# initialize dataclass (ASSUME THIS CAN BE LOADED AUTOMATICALLY)\n",
    "dc_example = WorldFloodsImage(filename=file_name)\n",
    "\n",
    "print(dc_example)"
   ]
  },
  {
   "cell_type": "code",
   "execution_count": 18,
   "id": "burning-sharp",
   "metadata": {},
   "outputs": [
    {
     "name": "stdout",
     "output_type": "stream",
     "text": [
      "<open DatasetReader name='gs://worldfloods/public/train/S2/01042016_Choctawhatchee_River_near_Bellwood_AL.tif' mode='r'>\n"
     ]
    }
   ],
   "source": [
    "# load the image with rasterio\n",
    "import rasterio\n",
    "\n",
    "with rasterio.open(\"gs://\"+get_image_path(dc_example)) as dataset:\n",
    "    print(dataset)"
   ]
  },
  {
   "cell_type": "markdown",
   "id": "manual-pursuit",
   "metadata": {},
   "source": [
    "## TODO\n",
    "\n",
    "1. Build Ground Truth Images\n",
    "2. Parse MetaData from TIF image\n",
    "3. Cloud Removal Strategy"
   ]
  },
  {
   "cell_type": "code",
   "execution_count": null,
   "id": "turkish-organ",
   "metadata": {},
   "outputs": [],
   "source": []
  }
 ],
 "metadata": {
  "kernelspec": {
   "display_name": "Python [conda env:ml4f_dj]",
   "language": "python",
   "name": "conda-env-ml4f_dj-py"
  },
  "language_info": {
   "codemirror_mode": {
    "name": "ipython",
    "version": 3
   },
   "file_extension": ".py",
   "mimetype": "text/x-python",
   "name": "python",
   "nbconvert_exporter": "python",
   "pygments_lexer": "ipython3",
   "version": "3.8.5"
  }
 },
 "nbformat": 4,
 "nbformat_minor": 5
}
