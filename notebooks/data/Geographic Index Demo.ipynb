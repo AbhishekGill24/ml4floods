{
 "cells": [
  {
   "cell_type": "code",
   "execution_count": 12,
   "id": "downtown-priority",
   "metadata": {},
   "outputs": [],
   "source": [
    "import sys\n",
    "sys.path = [\"/tank/ml4cc/nicholas/ml4floods\"] + sys.path\n",
    "import importlib\n",
    "import os\n",
    "\n",
    "from src.data.index.geographic_index import GeographicIndex"
   ]
  },
  {
   "cell_type": "code",
   "execution_count": 13,
   "id": "technological-bolivia",
   "metadata": {},
   "outputs": [],
   "source": [
    "idx = GeographicIndex()\n",
    "idx.load_index(\"/tank/ml4cc/nicholas/ml4floods_dummy_idx.pkl\")"
   ]
  },
  {
   "cell_type": "code",
   "execution_count": null,
   "id": "proved-consent",
   "metadata": {},
   "outputs": [],
   "source": []
  },
  {
   "cell_type": "code",
   "execution_count": 14,
   "id": "presidential-sewing",
   "metadata": {},
   "outputs": [
    {
     "data": {
      "text/plain": [
       "[{'type': 'meta',\n",
       "  'date_modified': datetime.datetime(2018, 3, 18, 3, 5, tzinfo=tzutc()),\n",
       "  'path': 'worldfloods/tiffimages/meta/EMSR274_01AMBILOBE_DEL_v2_observed_event_a.json'},\n",
       " {'type': 'satellite_image',\n",
       "  'date_modified': datetime.datetime(2018, 3, 18, 3, 5, tzinfo=tzutc()),\n",
       "  'provider_id': 'S2',\n",
       "  'path': 'worldfloods/tiffimages/S2/EMSR274_01AMBILOBE_DEL_v2_observed_event_a.tif'},\n",
       " {'type': 'satellite_image',\n",
       "  'date_modified': datetime.datetime(2018, 3, 18, 3, 5, tzinfo=tzutc()),\n",
       "  'provider_id': 'L8',\n",
       "  'path': 'worldfloods/tiffimages/L8/EMSR274_01AMBILOBE_DEL_v2_observed_event_a.tif'},\n",
       " {'type': 'satellite_image',\n",
       "  'date_modified': datetime.datetime(2018, 3, 18, 3, 5, tzinfo=tzutc()),\n",
       "  'provider_id': 'gt',\n",
       "  'path': 'worldfloods/tiffimages/gt/EMSR274_01AMBILOBE_DEL_v2_observed_event_a.tif'},\n",
       " {'type': 'floodmap',\n",
       "  'date_modified': datetime.datetime(2018, 3, 18, 3, 5, tzinfo=tzutc()),\n",
       "  'path': 'worldfloods/tiffimages/floodmaps/EMSR274_01AMBILOBE_DEL_v2_observed_event_a.shp'},\n",
       " {'type': 'cloudmask',\n",
       "  'date_modified': datetime.datetime(2018, 3, 18, 3, 5, tzinfo=tzutc()),\n",
       "  'path': 'worldfloods/tiffimages/cloudprob/EMSR274_01AMBILOBE_DEL_v2_observed_event_a.tif'}]"
      ]
     },
     "execution_count": 14,
     "metadata": {},
     "output_type": "execute_result"
    }
   ],
   "source": [
    "idx.index_list[0]"
   ]
  },
  {
   "cell_type": "code",
   "execution_count": 56,
   "id": "theoretical-representation",
   "metadata": {},
   "outputs": [
    {
     "name": "stdout",
     "output_type": "stream",
     "text": [
      "/tank/ml4cc/nicholas/ml4floods/notebooks/data\r\n"
     ]
    }
   ],
   "source": [
    "!pwd"
   ]
  },
  {
   "cell_type": "code",
   "execution_count": null,
   "id": "magnetic-lloyd",
   "metadata": {},
   "outputs": [],
   "source": []
  }
 ],
 "metadata": {
  "kernelspec": {
   "display_name": "Python 3",
   "language": "python",
   "name": "python3"
  },
  "language_info": {
   "codemirror_mode": {
    "name": "ipython",
    "version": 3
   },
   "file_extension": ".py",
   "mimetype": "text/x-python",
   "name": "python",
   "nbconvert_exporter": "python",
   "pygments_lexer": "ipython3",
   "version": "3.8.5"
  }
 },
 "nbformat": 4,
 "nbformat_minor": 5
}
