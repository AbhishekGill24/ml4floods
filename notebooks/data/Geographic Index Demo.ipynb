{
 "cells": [
  {
   "cell_type": "code",
   "execution_count": 1,
   "id": "drawn-duncan",
   "metadata": {},
   "outputs": [],
   "source": [
    "import sys\n",
    "sys.path = [\"/tank/ml4cc/nicholas/ml4floods\"] + sys.path\n",
    "import importlib\n",
    "import os\n",
    "\n",
    "# Import the factory that produces our map data structure for a given geographic region\n",
    "from src.data.index.map_data_factory import MapDataFactory"
   ]
  },
  {
   "cell_type": "code",
   "execution_count": 2,
   "id": "popular-moment",
   "metadata": {},
   "outputs": [],
   "source": [
    "# Instantiate a MapDataFactory from a saved geographic index structure\n",
    "data_factory = MapDataFactory(\"/tank/ml4cc/nicholas/ml4floods_dummy_idx.pkl\")\n",
    "my_map_data = data_factory.create_map_data(-90, -180, -88, -178)"
   ]
  },
  {
   "cell_type": "code",
   "execution_count": 3,
   "id": "mathematical-lounge",
   "metadata": {},
   "outputs": [
    {
     "name": "stdout",
     "output_type": "stream",
     "text": [
      "MapData(metadata={MapDataSource(path='worldfloods/tiffimages/meta/EMSR274_01AMBILOBE_DEL_v2_observed_event_a.json', last_modified=datetime.datetime(2018, 3, 18, 3, 5, tzinfo=tzutc()))}, satellite_images={'S2': {MapDataSource(path='worldfloods/tiffimages/S2/EMSR274_01AMBILOBE_DEL_v2_observed_event_a.tif', last_modified=datetime.datetime(2018, 3, 18, 3, 5, tzinfo=tzutc()))}, 'L8': {MapDataSource(path='worldfloods/tiffimages/L8/EMSR274_01AMBILOBE_DEL_v2_observed_event_a.tif', last_modified=datetime.datetime(2018, 3, 18, 3, 5, tzinfo=tzutc()))}, 'gt': {MapDataSource(path='worldfloods/tiffimages/gt/EMSR274_01AMBILOBE_DEL_v2_observed_event_a.tif', last_modified=datetime.datetime(2018, 3, 18, 3, 5, tzinfo=tzutc()))}}, floodmaps={MapDataSource(path='worldfloods/tiffimages/floodmaps/EMSR274_01AMBILOBE_DEL_v2_observed_event_a.shp', last_modified=datetime.datetime(2018, 3, 18, 3, 5, tzinfo=tzutc()))}, cloudmasks={MapDataSource(path='worldfloods/tiffimages/cloudprob/EMSR274_01AMBILOBE_DEL_v2_observed_event_a.tif', last_modified=datetime.datetime(2018, 3, 18, 3, 5, tzinfo=tzutc()))})\n"
     ]
    }
   ],
   "source": [
    "# We see the contents of a dataclass corresponding to the selected map region, let's explore...\n",
    "print(my_map_data)"
   ]
  },
  {
   "cell_type": "code",
   "execution_count": 4,
   "id": "collectible-usage",
   "metadata": {},
   "outputs": [
    {
     "name": "stdout",
     "output_type": "stream",
     "text": [
      "Help on MapData in module src.data.index.map_data object:\n",
      "\n",
      "class MapData(builtins.object)\n",
      " |  MapData(min_lat, min_lon, max_lat, max_lon, index_list)\n",
      " |  \n",
      " |  Represents known data for a subset of the map separated by type of data\n",
      " |  \n",
      " |  @field metadata Set of MapDataSources with JSON metadata\n",
      " |  @field satellite_images Dictionary of Sets of MapDataSources with satellite image GeoTIF data, one set per data source\n",
      " |  @field floodmaps Set of MapDataSources containing shape files that detail flood-related geographic information\n",
      " |  @field cloudmasks Set of MapDataSources with GeoTIF cloud masks\n",
      " |  \n",
      " |  Methods defined here:\n",
      " |  \n",
      " |  __eq__(self, other)\n",
      " |  \n",
      " |  __init__(self, min_lat, min_lon, max_lat, max_lon, index_list)\n",
      " |      Initialize self.  See help(type(self)) for accurate signature.\n",
      " |  \n",
      " |  __repr__(self)\n",
      " |  \n",
      " |  ----------------------------------------------------------------------\n",
      " |  Data descriptors defined here:\n",
      " |  \n",
      " |  __dict__\n",
      " |      dictionary for instance variables (if defined)\n",
      " |  \n",
      " |  __weakref__\n",
      " |      list of weak references to the object (if defined)\n",
      " |  \n",
      " |  ----------------------------------------------------------------------\n",
      " |  Data and other attributes defined here:\n",
      " |  \n",
      " |  __annotations__ = {'cloudmasks': typing.Set[src.data.index.map_data.Ma...\n",
      " |  \n",
      " |  __dataclass_fields__ = {'cloudmasks': Field(name='cloudmasks',type=typ...\n",
      " |  \n",
      " |  __dataclass_params__ = _DataclassParams(init=True,repr=True,eq=True,or...\n",
      " |  \n",
      " |  __hash__ = None\n",
      "\n"
     ]
    }
   ],
   "source": [
    "# That MapData readout looks quite crowded-- let's pick it apart\n",
    "help(my_map_data)"
   ]
  },
  {
   "cell_type": "code",
   "execution_count": 14,
   "id": "radical-moscow",
   "metadata": {},
   "outputs": [
    {
     "name": "stdout",
     "output_type": "stream",
     "text": [
      "{MapDataSource(path='worldfloods/tiffimages/meta/EMSR274_01AMBILOBE_DEL_v2_observed_event_a.json', last_modified=datetime.datetime(2018, 3, 18, 3, 5, tzinfo=tzutc()))}\n"
     ]
    }
   ],
   "source": [
    "# We see a single JSON file as the available metadata for resources in our selected map region\n",
    "print(my_map_data.metadata)"
   ]
  },
  {
   "cell_type": "code",
   "execution_count": 15,
   "id": "floating-college",
   "metadata": {},
   "outputs": [
    {
     "name": "stdout",
     "output_type": "stream",
     "text": [
      "{'S2': {MapDataSource(path='worldfloods/tiffimages/S2/EMSR274_01AMBILOBE_DEL_v2_observed_event_a.tif', last_modified=datetime.datetime(2018, 3, 18, 3, 5, tzinfo=tzutc()))}, 'L8': {MapDataSource(path='worldfloods/tiffimages/L8/EMSR274_01AMBILOBE_DEL_v2_observed_event_a.tif', last_modified=datetime.datetime(2018, 3, 18, 3, 5, tzinfo=tzutc()))}, 'gt': {MapDataSource(path='worldfloods/tiffimages/gt/EMSR274_01AMBILOBE_DEL_v2_observed_event_a.tif', last_modified=datetime.datetime(2018, 3, 18, 3, 5, tzinfo=tzutc()))}}\n"
     ]
    }
   ],
   "source": [
    "# We see that there is satellite image data available from Landsat-8, Sentinel-2, and gt in the map region\n",
    "print(my_map_data.satellite_images)"
   ]
  },
  {
   "cell_type": "code",
   "execution_count": 16,
   "id": "heated-decimal",
   "metadata": {},
   "outputs": [
    {
     "name": "stdout",
     "output_type": "stream",
     "text": [
      "{MapDataSource(path='worldfloods/tiffimages/floodmaps/EMSR274_01AMBILOBE_DEL_v2_observed_event_a.shp', last_modified=datetime.datetime(2018, 3, 18, 3, 5, tzinfo=tzutc()))}\n"
     ]
    }
   ],
   "source": [
    "# We see that there is a single floodmap shape file available in the selected map region\n",
    "print(my_map_data.floodmaps)"
   ]
  },
  {
   "cell_type": "code",
   "execution_count": 5,
   "id": "composed-sleeping",
   "metadata": {},
   "outputs": [
    {
     "name": "stdout",
     "output_type": "stream",
     "text": [
      "{MapDataSource(path='worldfloods/tiffimages/cloudprob/EMSR274_01AMBILOBE_DEL_v2_observed_event_a.tif', last_modified=datetime.datetime(2018, 3, 18, 3, 5, tzinfo=tzutc()))}\n"
     ]
    }
   ],
   "source": [
    "# We see that there is a single cloud mask available in the selected map region\n",
    "print(my_map_data.cloudmasks)"
   ]
  }
 ],
 "metadata": {
  "kernelspec": {
   "display_name": "Python 3",
   "language": "python",
   "name": "python3"
  },
  "language_info": {
   "codemirror_mode": {
    "name": "ipython",
    "version": 3
   },
   "file_extension": ".py",
   "mimetype": "text/x-python",
   "name": "python",
   "nbconvert_exporter": "python",
   "pygments_lexer": "ipython3",
   "version": "3.8.5"
  }
 },
 "nbformat": 4,
 "nbformat_minor": 5
}
