{
 "cells": [
  {
   "cell_type": "code",
   "execution_count": 4,
   "metadata": {
    "pycharm": {
     "name": "#%%\n"
    }
   },
   "outputs": [
    {
     "data": {
      "text/plain": [
       "(146.86329100021769,\n",
       " -37.50516044138397,\n",
       " 153.63872785102905,\n",
       " -23.244936010554465)"
      ]
     },
     "execution_count": 4,
     "metadata": {},
     "output_type": "execute_result"
    }
   ],
   "source": [
    "import geopandas as gpd\n",
    "import numpy as np\n",
    "\n",
    "lgas = gpd.read_file(\"/home/gonzalo/Downloads/2022 Floods Declared LGAs Shapefile FINAL/Floods_2022_Declared_LGA_FINAL.shp\").to_crs(\"EPSG:4326\")\n",
    "lgas_bounds = lgas.bounds\n",
    "bounds_all = np.min(lgas_bounds.minx), np.min(lgas_bounds.miny), np.max(lgas_bounds.maxx), np.max(lgas_bounds.maxy)\n",
    "bounds_all"
   ]
  },
  {
   "cell_type": "markdown",
   "metadata": {},
   "source": [
    "## Compute existing polygons"
   ]
  },
  {
   "cell_type": "code",
   "execution_count": 18,
   "metadata": {},
   "outputs": [
    {
     "name": "stderr",
     "output_type": "stream",
     "text": [
      "100%|███████████████████████████████████████████████████████████████████████████████████████████████████████████████████████████████| 100/100 [00:34<00:00,  2.94it/s]\n"
     ]
    },
    {
     "data": {
      "text/html": [
       "<div>\n",
       "<style scoped>\n",
       "    .dataframe tbody tr th:only-of-type {\n",
       "        vertical-align: middle;\n",
       "    }\n",
       "\n",
       "    .dataframe tbody tr th {\n",
       "        vertical-align: top;\n",
       "    }\n",
       "\n",
       "    .dataframe thead th {\n",
       "        text-align: right;\n",
       "    }\n",
       "</style>\n",
       "<table border=\"1\" class=\"dataframe\">\n",
       "  <thead>\n",
       "    <tr style=\"text-align: right;\">\n",
       "      <th></th>\n",
       "      <th>geometry</th>\n",
       "      <th>ems_code</th>\n",
       "      <th>aoi_code</th>\n",
       "      <th>date</th>\n",
       "    </tr>\n",
       "  </thead>\n",
       "  <tbody>\n",
       "    <tr>\n",
       "      <th>0</th>\n",
       "      <td>POLYGON ((153.20101 -28.91599, 153.44092 -28.9...</td>\n",
       "      <td>EMSR570</td>\n",
       "      <td>AOI01</td>\n",
       "      <td>2022-03-29 00:00:00+00:00</td>\n",
       "    </tr>\n",
       "    <tr>\n",
       "      <th>1</th>\n",
       "      <td>POLYGON ((153.15602 -28.69964, 153.44520 -28.7...</td>\n",
       "      <td>EMSR570</td>\n",
       "      <td>AOI02</td>\n",
       "      <td>2022-03-29 00:00:00+00:00</td>\n",
       "    </tr>\n",
       "    <tr>\n",
       "      <th>2</th>\n",
       "      <td>POLYGON ((152.87678 -28.57926, 153.13404 -28.5...</td>\n",
       "      <td>EMSR570</td>\n",
       "      <td>AOI03</td>\n",
       "      <td>2022-03-29 00:00:00+00:00</td>\n",
       "    </tr>\n",
       "    <tr>\n",
       "      <th>3</th>\n",
       "      <td>POLYGON ((152.98821 -28.83102, 153.21246 -28.8...</td>\n",
       "      <td>EMSR570</td>\n",
       "      <td>AOI04</td>\n",
       "      <td>2022-03-29 00:00:00+00:00</td>\n",
       "    </tr>\n",
       "    <tr>\n",
       "      <th>4</th>\n",
       "      <td>POLYGON ((153.41606 -28.74847, 153.60454 -28.7...</td>\n",
       "      <td>EMSR570</td>\n",
       "      <td>AOI05</td>\n",
       "      <td>2022-03-29 00:00:00+00:00</td>\n",
       "    </tr>\n",
       "    <tr>\n",
       "      <th>...</th>\n",
       "      <td>...</td>\n",
       "      <td>...</td>\n",
       "      <td>...</td>\n",
       "      <td>...</td>\n",
       "    </tr>\n",
       "    <tr>\n",
       "      <th>95</th>\n",
       "      <td>POLYGON ((152.09898 -25.95961, 152.38684 -25.9...</td>\n",
       "      <td>EMSR570</td>\n",
       "      <td>QLAOI51</td>\n",
       "      <td>2022-03-29 00:00:00</td>\n",
       "    </tr>\n",
       "    <tr>\n",
       "      <th>96</th>\n",
       "      <td>POLYGON ((151.69106 -26.19427, 152.04751 -26.1...</td>\n",
       "      <td>EMSR570</td>\n",
       "      <td>QLAOI52</td>\n",
       "      <td>2022-03-29 00:00:00</td>\n",
       "    </tr>\n",
       "    <tr>\n",
       "      <th>97</th>\n",
       "      <td>POLYGON ((151.73009 -26.41593, 152.06565 -26.4...</td>\n",
       "      <td>EMSR570</td>\n",
       "      <td>QLAOI53</td>\n",
       "      <td>2022-03-29 00:00:00</td>\n",
       "    </tr>\n",
       "    <tr>\n",
       "      <th>98</th>\n",
       "      <td>POLYGON ((151.47685 -26.09721, 151.73010 -26.1...</td>\n",
       "      <td>EMSR570</td>\n",
       "      <td>QLAOI54</td>\n",
       "      <td>2022-03-29 00:00:00</td>\n",
       "    </tr>\n",
       "    <tr>\n",
       "      <th>99</th>\n",
       "      <td>POLYGON ((151.76291 -26.60763, 151.79620 -26.9...</td>\n",
       "      <td>EMSR570</td>\n",
       "      <td>QLAOI55</td>\n",
       "      <td>2022-03-29 00:00:00</td>\n",
       "    </tr>\n",
       "  </tbody>\n",
       "</table>\n",
       "<p>100 rows × 4 columns</p>\n",
       "</div>"
      ],
      "text/plain": [
       "                                             geometry ems_code aoi_code  \\\n",
       "0   POLYGON ((153.20101 -28.91599, 153.44092 -28.9...  EMSR570    AOI01   \n",
       "1   POLYGON ((153.15602 -28.69964, 153.44520 -28.7...  EMSR570    AOI02   \n",
       "2   POLYGON ((152.87678 -28.57926, 153.13404 -28.5...  EMSR570    AOI03   \n",
       "3   POLYGON ((152.98821 -28.83102, 153.21246 -28.8...  EMSR570    AOI04   \n",
       "4   POLYGON ((153.41606 -28.74847, 153.60454 -28.7...  EMSR570    AOI05   \n",
       "..                                                ...      ...      ...   \n",
       "95  POLYGON ((152.09898 -25.95961, 152.38684 -25.9...  EMSR570  QLAOI51   \n",
       "96  POLYGON ((151.69106 -26.19427, 152.04751 -26.1...  EMSR570  QLAOI52   \n",
       "97  POLYGON ((151.73009 -26.41593, 152.06565 -26.4...  EMSR570  QLAOI53   \n",
       "98  POLYGON ((151.47685 -26.09721, 151.73010 -26.1...  EMSR570  QLAOI54   \n",
       "99  POLYGON ((151.76291 -26.60763, 151.79620 -26.9...  EMSR570  QLAOI55   \n",
       "\n",
       "                         date  \n",
       "0   2022-03-29 00:00:00+00:00  \n",
       "1   2022-03-29 00:00:00+00:00  \n",
       "2   2022-03-29 00:00:00+00:00  \n",
       "3   2022-03-29 00:00:00+00:00  \n",
       "4   2022-03-29 00:00:00+00:00  \n",
       "..                        ...  \n",
       "95        2022-03-29 00:00:00  \n",
       "96        2022-03-29 00:00:00  \n",
       "97        2022-03-29 00:00:00  \n",
       "98        2022-03-29 00:00:00  \n",
       "99        2022-03-29 00:00:00  \n",
       "\n",
       "[100 rows x 4 columns]"
      ]
     },
     "execution_count": 18,
     "metadata": {},
     "output_type": "execute_result"
    }
   ],
   "source": [
    "import os\n",
    "from ml4floods.data import utils\n",
    "from tqdm import tqdm\n",
    "\n",
    "os.environ[\"GOOGLE_APPLICATION_CREDENTIALS\"] = \"/home/gonzalo/Downloads/ml4cc-general-access_request_pays.json\"\n",
    "fs = utils.get_filesystem(\"gs://ml4cc_data_lake\")\n",
    "\n",
    "data = []\n",
    "for meta_file in tqdm(fs.glob(\"gs://ml4cc_data_lake/0_DEV/1_Staging/operational/EMSR570/*/flood_meta/2022-03-*\")):\n",
    "    meta_file = f\"gs://{meta_file}\"\n",
    "    meta = utils.read_pickle_from_gcp(meta_file)\n",
    "    data.append({\"geometry\":meta[\"area_of_interest_polygon\"], \"ems_code\":meta[\"ems_code\"], \"aoi_code\":meta[\"aoi_code\"], \"date\":meta[\"satellite date\"]})\n",
    "data = gpd.GeoDataFrame(data,crs=\"EPSG:4326\")\n",
    "data"
   ]
  },
  {
   "cell_type": "code",
   "execution_count": 27,
   "metadata": {},
   "outputs": [],
   "source": [
    "\n",
    "data[[\"geometry\",\"aoi_code\"]].to_file(\"/home/gonzalo/Downloads/australia_aois.geojson\",driver=\"GeoJSON\")"
   ]
  },
  {
   "cell_type": "code",
   "execution_count": 34,
   "metadata": {},
   "outputs": [
    {
     "name": "stdout",
     "output_type": "stream",
     "text": [
      "(663, 2)\n"
     ]
    }
   ],
   "source": [
    "import itertools\n",
    "from ml4floods.data.copernicusEMS.activations import generate_polygon\n",
    "from shapely.geometry import Polygon\n",
    "\n",
    "import warnings\n",
    "warnings.filterwarnings('ignore', 'Geometry is in a ', UserWarning)\n",
    "\n",
    "step = 0.20, 0.20\n",
    "size = 0.21\n",
    "\n",
    "pols_all = []\n",
    "for idx, (x_left,y_bottom) in enumerate(itertools.product(np.arange(bounds_all[0], bounds_all[2], step[0]),\n",
    "                                                          np.arange(bounds_all[1],bounds_all[3], step[1]))):\n",
    "    bounds_iter = (x_left, y_bottom, x_left+size, y_bottom+size)\n",
    "    pol = Polygon(generate_polygon(bounds_iter))\n",
    "    \n",
    "    \n",
    "    # TODO do not include pol if it does not overlap the lgas\n",
    "    lgas_overlap_polygons = lgas.intersection(pol)\n",
    "    lgas_overlap_polygons = lgas_overlap_polygons[~lgas_overlap_polygons.is_empty].copy()\n",
    "    if lgas_overlap_polygons.shape[0] == 0:\n",
    "        # print(f\"{idx} does not overlap the LGAS\")\n",
    "        continue\n",
    "    area_overlap_lga = lgas_overlap_polygons.area.sum() / pol.area\n",
    "    \n",
    "    if area_overlap_lga<=.3:\n",
    "        continue\n",
    "    \n",
    "    # do not include pol if it has high overlap with existing polygons\n",
    "    aoi_overlap_polygons = data.intersection(pol)\n",
    "    aoi_overlap_polygons = aoi_overlap_polygons[~aoi_overlap_polygons.is_empty].copy()\n",
    "    \n",
    "    area_overlap = aoi_overlap_polygons.area.sum() / pol.area\n",
    "    if area_overlap >=.3:\n",
    "        # print(f\"Do not include {idx}\")\n",
    "        continue\n",
    "    \n",
    "    pols_all.append({\"geometry\": pol, \"name\":f\"AUTOAOI{idx:04d}\"})\n",
    "    \n",
    "    \n",
    "pols_all = gpd.GeoDataFrame(pols_all,crs=\"EPSG:4326\")\n",
    "print(pols_all.shape)\n",
    "pols_all.to_file(\"/home/gonzalo/Downloads/autoaois.geojson\",driver=\"GeoJSON\")"
   ]
  },
  {
   "cell_type": "code",
   "execution_count": 14,
   "metadata": {},
   "outputs": [
    {
     "data": {
      "text/plain": [
       "0     True\n",
       "1     True\n",
       "2     True\n",
       "3     True\n",
       "4     True\n",
       "      ... \n",
       "95    True\n",
       "96    True\n",
       "97    True\n",
       "98    True\n",
       "99    True\n",
       "Length: 100, dtype: bool"
      ]
     },
     "execution_count": 14,
     "metadata": {},
     "output_type": "execute_result"
    }
   ],
   "source": [
    "pol.area\n",
    "existing_aois = .is_empty"
   ]
  },
  {
   "cell_type": "code",
   "execution_count": 6,
   "metadata": {},
   "outputs": [
    {
     "data": {
      "text/plain": [
       "(153.3362, -28.1347)"
      ]
     },
     "execution_count": 6,
     "metadata": {},
     "output_type": "execute_result"
    }
   ],
   "source": [
    "(153.3362,-28.1347) - (153.6401,-28.1467) - (153.3386,-28.3836)"
   ]
  }
 ],
 "metadata": {
  "kernelspec": {
   "display_name": "Python [conda env:ml4floods]",
   "language": "python",
   "name": "conda-env-ml4floods-py"
  },
  "language_info": {
   "codemirror_mode": {
    "name": "ipython",
    "version": 3
   },
   "file_extension": ".py",
   "mimetype": "text/x-python",
   "name": "python",
   "nbconvert_exporter": "python",
   "pygments_lexer": "ipython3",
   "version": "3.9.9"
  }
 },
 "nbformat": 4,
 "nbformat_minor": 4
}
