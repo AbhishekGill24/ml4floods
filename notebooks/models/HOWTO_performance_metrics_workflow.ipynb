{
 "cells": [
  {
   "cell_type": "markdown",
   "id": "standing-pillow",
   "metadata": {},
   "source": [
    "# Model Metrics workflow notebook"
   ]
  },
  {
   "cell_type": "code",
   "execution_count": null,
   "id": "improving-security",
   "metadata": {},
   "outputs": [],
   "source": [
    "import sys, os\n",
    "from pathlib import Path\n",
    "from pyprojroot import here\n",
    "# spyder up to find the root\n",
    "root = here(project_files=[\".here\"])\n",
    "# append to path\n",
    "sys.path.append(str(here()))\n",
    "\n",
    "# %load_ext autoreload\n",
    "# %autoreload 2"
   ]
  },
  {
   "cell_type": "markdown",
   "id": "color-amber",
   "metadata": {},
   "source": [
    "## Step 1: Get config"
   ]
  },
  {
   "cell_type": "code",
   "execution_count": 2,
   "id": "productive-track",
   "metadata": {},
   "outputs": [
    {
     "name": "stdout",
     "output_type": "stream",
     "text": [
      "Loaded Config for experiment:  worldfloods_demo_test\n",
      "{   'data_params': {   'bands': 'all',\n",
      "                       'batch_size': 32,\n",
      "                       'bucket_id': 'ml4floods',\n",
      "                       'image_count': 3,\n",
      "                       'input_folder': 'S2',\n",
      "                       'loader_type': 'local',\n",
      "                       'path_to_splits': 'worldfloods/public',\n",
      "                       'target_folder': 'gt',\n",
      "                       'test_transformation': {   'normalize': True,\n",
      "                                                  'num_classes': 3,\n",
      "                                                  'totensor': True,\n",
      "                                                  'use_channels': 'all'},\n",
      "                       'train_transformation': {   'normalize': True,\n",
      "                                                   'num_classes': 3,\n",
      "                                                   'totensor': True,\n",
      "                                                   'use_channels': 'all'},\n",
      "                       'window_size': [256, 256]},\n",
      "    'deploy': False,\n",
      "    'experiment_name': 'worldfloods_demo_test',\n",
      "    'gpus': '0',\n",
      "    'model_params': {   'device': 'cpu',\n",
      "                        'hyperparameters': {   'channel_configuration': 'all',\n",
      "                                               'label_names': [   'land',\n",
      "                                                                  'water',\n",
      "                                                                  'cloud'],\n",
      "                                               'lr': 0.0001,\n",
      "                                               'lr_decay': 0.5,\n",
      "                                               'lr_patience': 2,\n",
      "                                               'max_epochs': 10,\n",
      "                                               'max_tile_size': 256,\n",
      "                                               'model_type': 'linear',\n",
      "                                               'num_channels': 13,\n",
      "                                               'num_classes': 3,\n",
      "                                               'val_every': 1,\n",
      "                                               'weight_per_class': [   0.516942,\n",
      "                                                                       0.027322,\n",
      "                                                                       0.455787]},\n",
      "                        'model_folder': 'gs://',\n",
      "                        'path_to_weights': 'checkpoints/',\n",
      "                        'test': True,\n",
      "                        'train': True,\n",
      "                        'use_pretrained_weights': False},\n",
      "    'seed': 12,\n",
      "    'test': False,\n",
      "    'train': False}\n"
     ]
    },
    {
     "data": {
      "text/plain": [
       "{'loader_type': 'local',\n",
       " 'image_count': 3,\n",
       " 'bucket_id': 'ml4floods',\n",
       " 'path_to_splits': 'worldfloods/public',\n",
       " 'input_folder': 'S2',\n",
       " 'target_folder': 'gt',\n",
       " 'batch_size': 32,\n",
       " 'window_size': [256, 256],\n",
       " 'bands': 'all',\n",
       " 'train_transformation': {'num_classes': 3,\n",
       "  'totensor': True,\n",
       "  'use_channels': 'all',\n",
       "  'normalize': True},\n",
       " 'test_transformation': {'num_classes': 3,\n",
       "  'totensor': True,\n",
       "  'use_channels': 'all',\n",
       "  'normalize': True}}"
      ]
     },
     "execution_count": 2,
     "metadata": {},
     "output_type": "execute_result"
    }
   ],
   "source": [
    "from src.models.config_setup import get_default_config\n",
    "\n",
    "model_type = \"linear\"\n",
    "path_to_models = f\"gs://ml4cc_data_lake/0_DEV/2_Mart/2_MLModelMart/worldfloods-demo/{model_type}/model.pt\"\n",
    "config_fp = os.path.join(root, 'src', 'models', 'configurations', 'worldfloods_template.json')\n",
    "config = get_default_config(config_fp)\n",
    "config[\"data_params\"]"
   ]
  },
  {
   "cell_type": "code",
   "execution_count": 3,
   "id": "naughty-helicopter",
   "metadata": {},
   "outputs": [
    {
     "data": {
      "text/plain": [
       "{'loader_type': 'local',\n",
       " 'image_count': 3,\n",
       " 'bucket_id': 'ml4floods',\n",
       " 'path_to_splits': 'worldfloods/public',\n",
       " 'input_folder': 'S2',\n",
       " 'target_folder': 'gt',\n",
       " 'batch_size': 32,\n",
       " 'window_size': [256, 256],\n",
       " 'bands': 'all',\n",
       " 'train_transformation': {'num_classes': 3,\n",
       "  'totensor': True,\n",
       "  'use_channels': 'all',\n",
       "  'normalize': True},\n",
       " 'test_transformation': {'num_classes': 3,\n",
       "  'totensor': True,\n",
       "  'use_channels': 'all',\n",
       "  'normalize': True}}"
      ]
     },
     "execution_count": 3,
     "metadata": {},
     "output_type": "execute_result"
    }
   ],
   "source": [
    "config[\"data_params\"]"
   ]
  },
  {
   "cell_type": "markdown",
   "id": "dedicated-stocks",
   "metadata": {},
   "source": [
    "## Step 2: Load dataloader"
   ]
  },
  {
   "cell_type": "code",
   "execution_count": 4,
   "id": "working-people",
   "metadata": {},
   "outputs": [],
   "source": [
    "from src.models import dataset_setup\n",
    "\n",
    "# Configure the dataset to load directly from the Google bucket\n",
    "config[\"data_params\"][\"loader_type\"] = \"bucket\"\n",
    "config[\"data_params\"][\"bucket_id\"] = \"ml4floods\"\n",
    "config[\"data_params\"][\"path_to_splits\"] = \"worldfloods/public/\"\n",
    "\n",
    "# train_transform, test_transform = dataset_setup.get_transformations(config[\"data_params\"])"
   ]
  },
  {
   "cell_type": "code",
   "execution_count": 5,
   "id": "divine-double",
   "metadata": {},
   "outputs": [
    {
     "name": "stdout",
     "output_type": "stream",
     "text": [
      "Using remote bucket storate dataset for this run\n",
      "train 196648  tiles\n",
      "val 1284  tiles\n",
      "test 11  tiles\n"
     ]
    }
   ],
   "source": [
    "data_module = dataset_setup.get_dataset(config[\"data_params\"])"
   ]
  },
  {
   "cell_type": "code",
   "execution_count": 11,
   "id": "mysterious-cocktail",
   "metadata": {},
   "outputs": [],
   "source": [
    "dl = data_module.test_dataloader()"
   ]
  },
  {
   "cell_type": "code",
   "execution_count": 7,
   "id": "magnetic-python",
   "metadata": {},
   "outputs": [],
   "source": [
    "# from src.data.worldfloods.dataset import WorldFloodsDataset\n",
    "# from src.data.utils import get_files_in_bucket_directory\n",
    "# import torch\n",
    "\n",
    "# data_params = config[\"data_params\"]\n",
    "# bucket_id = data_params[\"bucket_id\"]\n",
    "# input_folder = data_params[\"input_folder\"]\n",
    "# path_to_splits = data_params[\"path_to_splits\"]\n",
    "# test_dir = os.path.join(path_to_splits,\"test\",input_folder)\n",
    "\n",
    "# test_files = get_files_in_bucket_directory(\n",
    "#     bucket_id, test_dir, \".tif\"\n",
    "# )\n",
    "\n",
    "# test_files = [f\"gs://{bucket_id}/{x}\" for x in test_files]\n",
    "\n",
    "# test_dataset = WorldFloodsDataset(image_files=test_files,\n",
    "#                                   image_prefix=input_folder,\n",
    "#                                   gt_prefix=data_params['target_folder'],\n",
    "#                                   lock_read=True,\n",
    "#                                   transforms=test_transform)\n",
    "\n",
    "# print(f\"The dataset has: {len(test_dataset)} images\")\n",
    "# dl = torch.utils.data.DataLoader(test_dataset, batch_size=1,num_workers=0)"
   ]
  },
  {
   "cell_type": "markdown",
   "id": "silent-given",
   "metadata": {},
   "source": [
    "## Load a pre-trained model"
   ]
  },
  {
   "cell_type": "code",
   "execution_count": 8,
   "id": "virgin-democrat",
   "metadata": {},
   "outputs": [
    {
     "name": "stdout",
     "output_type": "stream",
     "text": [
      "Model type:  linear\n"
     ]
    }
   ],
   "source": [
    "model_type = config.model_params.hyperparameters.model_type\n",
    "print('Model type: ', model_type)\n",
    "path_to_models = f\"gs://ml4cc_data_lake/0_DEV/2_Mart/2_MLModelMart/worldfloods-demo/{model_type}/model.pt\""
   ]
  },
  {
   "cell_type": "code",
   "execution_count": 9,
   "id": "trying-frank",
   "metadata": {},
   "outputs": [
    {
     "name": "stdout",
     "output_type": "stream",
     "text": [
      "13 3\n"
     ]
    },
    {
     "data": {
      "text/plain": [
       "<All keys matched successfully>"
      ]
     },
     "execution_count": 9,
     "metadata": {},
     "output_type": "execute_result"
    }
   ],
   "source": [
    "from pytorch_lightning.utilities.cloud_io import load\n",
    "from src.models.model_setup import get_model\n",
    "\n",
    "model = get_model(config.model_params)\n",
    "model.load_state_dict(load(path_to_models))"
   ]
  },
  {
   "cell_type": "code",
   "execution_count": 10,
   "id": "compliant-rebecca",
   "metadata": {},
   "outputs": [],
   "source": [
    "from src.models.model_setup import get_model_inference_function\n",
    "inference_function = get_model_inference_function(model, config,apply_normalization=False)"
   ]
  },
  {
   "cell_type": "code",
   "execution_count": null,
   "id": "weird-process",
   "metadata": {},
   "outputs": [
    {
     "name": "stderr",
     "output_type": "stream",
     "text": [
      " 55%|█████▍    | 6/11 [02:05<03:01, 36.23s/it]"
     ]
    }
   ],
   "source": [
    "import torch\n",
    "import numpy as np\n",
    "import pandas as pd\n",
    "from src.models.utils import metrics\n",
    "\n",
    "# Otherwise fails when reading test dataset from remote bucket\n",
    "torch.set_num_threads(1)\n",
    "\n",
    "mets = metrics.compute_metrics(\n",
    "    dl,\n",
    "    inference_function, \n",
    "    config.model_params.hyperparameters.num_classes, \n",
    "    label_names=config.model_params.hyperparameters.label_names, \n",
    "    thresholds_water=np.arange(0, 1, .05), \n",
    "    plot=False)\n",
    "metrics.plot_metrics(mets, config.model_params.hyperparameters.label_names)"
   ]
  },
  {
   "cell_type": "code",
   "execution_count": null,
   "id": "fallen-stretch",
   "metadata": {},
   "outputs": [],
   "source": [
    "metrics.calculate_iou(np.array(mets[\"confusions\"]).transpose(0,1,2),\n",
    "                      config.model_params.hyperparameters.label_names)"
   ]
  },
  {
   "cell_type": "code",
   "execution_count": null,
   "id": "possible-classification",
   "metadata": {},
   "outputs": [],
   "source": [
    "# mets = metrics.compute_metrics(dl, inference_func2, opt2.num_class, label_names, thresholds_water=np.arange(0, 1, .05), plot=True)\n",
    "# metrics.plot_metrics(mets, label_names)"
   ]
  }
 ],
 "metadata": {
  "kernelspec": {
   "display_name": "Python [conda env:floodbusters]",
   "language": "python",
   "name": "conda-env-floodbusters-py"
  },
  "language_info": {
   "codemirror_mode": {
    "name": "ipython",
    "version": 3
   },
   "file_extension": ".py",
   "mimetype": "text/x-python",
   "name": "python",
   "nbconvert_exporter": "python",
   "pygments_lexer": "ipython3",
   "version": "3.7.9"
  }
 },
 "nbformat": 4,
 "nbformat_minor": 5
}
