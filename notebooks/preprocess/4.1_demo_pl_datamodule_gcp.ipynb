{
 "cells": [
  {
   "cell_type": "markdown",
   "id": "international-confidentiality",
   "metadata": {},
   "source": [
    "# PreProcessing Demonstration\n",
    "\n",
    "In this notebook, we will explore the PyTorch Dataset class and show how it can be used to handle input images. It should do some light preprocessing to make sure everything is available. \n",
    "\n",
    "Some things to note:\n",
    "* checks to see that there is a 1-to-1 correspondence between the datasets\n",
    "* does the tiling\n",
    "* exports tiles that are extra"
   ]
  },
  {
   "cell_type": "code",
   "execution_count": 3,
   "id": "buried-artist",
   "metadata": {},
   "outputs": [],
   "source": [
    "# Helpful trick for loading the directories correction\n",
    "import sys, os\n",
    "from pyprojroot import here\n",
    "# spyder up to find the root\n",
    "root = here(project_files=[\".here\"])\n",
    "# append to path\n",
    "sys.path.append(str(here()))\n",
    "\n",
    "\n",
    "from src.data.worldfloods.lightning import WorldFloodsGCPDataModule\n",
    "\n",
    "# MATPLOTLIB Settings\n",
    "import matplotlib as mpl\n",
    "import matplotlib.pyplot as plt\n",
    "%matplotlib inline\n",
    "%config InlineBackend.figure_format = 'retina'\n",
    "\n",
    "# SEABORN SETTINGS\n",
    "import seaborn as sns\n",
    "sns.set_context(context='talk',font_scale=0.7)\n",
    "\n",
    "%load_ext autoreload\n",
    "%autoreload 2"
   ]
  },
  {
   "cell_type": "markdown",
   "id": "looking-helicopter",
   "metadata": {},
   "source": [
    "## Load Demo Images\n",
    "\n",
    "For this demonstration, we need a S2 AND a groundtruth image. We have two that we can download."
   ]
  },
  {
   "cell_type": "code",
   "execution_count": 4,
   "id": "bored-spiritual",
   "metadata": {},
   "outputs": [
    {
     "name": "stdout",
     "output_type": "stream",
     "text": [
      "CPU times: user 52 s, sys: 1.14 s, total: 53.1 s\n",
      "Wall time: 1min 40s\n"
     ]
    }
   ],
   "source": [
    "%%time\n",
    "\n",
    "wf_dm = WorldFloodsGCPDataModule()\n"
   ]
  },
  {
   "cell_type": "markdown",
   "id": "stuck-summit",
   "metadata": {},
   "source": [
    "#### Prepare Data"
   ]
  },
  {
   "cell_type": "code",
   "execution_count": null,
   "id": "vulnerable-mozambique",
   "metadata": {},
   "outputs": [],
   "source": [
    "wf_dm.prepare_data()"
   ]
  },
  {
   "cell_type": "markdown",
   "id": "continental-powder",
   "metadata": {},
   "source": [
    "#### Setup\n",
    "\n",
    "This takes the longest amount of time."
   ]
  },
  {
   "cell_type": "code",
   "execution_count": null,
   "id": "mental-essay",
   "metadata": {},
   "outputs": [],
   "source": [
    "wf_dm.setup()\n",
    "\n"
   ]
  },
  {
   "cell_type": "markdown",
   "id": "global-consultancy",
   "metadata": {},
   "source": [
    "#### Get DataSets"
   ]
  },
  {
   "cell_type": "code",
   "execution_count": 7,
   "id": "hollywood-story",
   "metadata": {},
   "outputs": [],
   "source": [
    "%%time\n",
    "\n",
    "train_ds = wf_dm.train_dataset\n",
    "val_ds = wf_dm.val_dataset\n",
    "test_ds = wf_dm.test_dataset\n",
    "\n",
    "# train_dl = wf_dm.train_dataloader()\n",
    "# val_dl = wf_dm.val_dataloader()\n",
    "# test_dl = wf_dm.test_dataloader()"
   ]
  },
  {
   "cell_type": "code",
   "execution_count": 8,
   "id": "uniform-retro",
   "metadata": {},
   "outputs": [
    {
     "data": {
      "text/plain": [
       "(3072159, 34903, 19371)"
      ]
     },
     "execution_count": 8,
     "metadata": {},
     "output_type": "execute_result"
    }
   ],
   "source": [
    "len(train_ds), len(test_ds), len(val_ds)"
   ]
  },
  {
   "cell_type": "markdown",
   "id": "copyrighted-elephant",
   "metadata": {},
   "source": [
    "## Demo: Tiled Images for Train/Val/Test"
   ]
  },
  {
   "cell_type": "code",
   "execution_count": null,
   "id": "needed-cornell",
   "metadata": {},
   "outputs": [],
   "source": [
    "from rasterio.plot import show as rasterio_show\n",
    "from mpl_toolkits.axes_grid1 import ImageGrid\n",
    "\n",
    "train_ds = wf_dm.train_dataset\n",
    "val_ds = wf_dm.val_dataset\n",
    "test_ds = wf_dm.test_dataset\n",
    "\n",
    "for iloader in [train_ds, val_ds, test_ds]:\n",
    "\n",
    "    n_tiles = 16\n",
    "    n_rows = 2\n",
    "    tiles_per_row = int(n_tiles / n_rows)\n",
    "    iteration = 0\n",
    "\n",
    "    # plot preamble\n",
    "    fig = plt.figure(figsize=(40, 20))\n",
    "    grid = ImageGrid(\n",
    "        fig, 111,\n",
    "        nrows_ncols=(1, tiles_per_row),\n",
    "        axes_pad=0.1,\n",
    "    )\n",
    "\n",
    "\n",
    "\n",
    "\n",
    "    # BANDS\n",
    "    bands = [6,] #CHANNELS_CONFIGURATIONS[\"all\"]\n",
    "\n",
    "    for iax, itile in zip(grid, range(n_tiles)):\n",
    "\n",
    "        tile_data = iloader[itile]\n",
    "    #     print(tile_data[\"image\"].shape, tile_data[\"mask\"].shape)\n",
    "    #     print()\n",
    "    #     if itile < 8:\n",
    "        iax.imshow(tile_data[\"image\"][6,:,:].squeeze())\n",
    "    #         rasterio_show(tile_data[\"image\"][6,:,:], ax=iax, cmap=\"pink\")\n",
    "    #     else:\n",
    "    # #         rasterio_show(tile_data[\"mask\"], ax=iax, cmap=\"pink\")\n",
    "    #         iax.imshow(tile_data[\"mask\"][0,:,:].squeeze())\n",
    "    plt.show()\n",
    "\n",
    "    n_tiles = 16\n",
    "    n_rows = 2\n",
    "    tiles_per_row = int(n_tiles / n_rows)\n",
    "    iteration = 0\n",
    "\n",
    "    # plot preamble\n",
    "    fig = plt.figure(figsize=(40, 20))\n",
    "    grid = ImageGrid(\n",
    "        fig, 111,\n",
    "        nrows_ncols=(1, tiles_per_row),\n",
    "        axes_pad=0.1,\n",
    "    )\n",
    "\n",
    "\n",
    "\n",
    "\n",
    "    # BANDS\n",
    "    bands = [6,] #CHANNELS_CONFIGURATIONS[\"all\"]\n",
    "\n",
    "    for iax, itile in zip(grid, range(n_tiles)):\n",
    "\n",
    "        tile_data = iloader[itile]\n",
    "    #     print(tile_data[\"image\"].shape, tile_data[\"mask\"].shape)\n",
    "        iax.imshow(tile_data[\"mask\"][0,:,:].squeeze())\n",
    "    #  \n",
    "    plt.show()"
   ]
  },
  {
   "cell_type": "code",
   "execution_count": null,
   "id": "opened-convert",
   "metadata": {},
   "outputs": [],
   "source": []
  }
 ],
 "metadata": {
  "kernelspec": {
   "display_name": "Python [conda env:ml4fl_py38]",
   "language": "python",
   "name": "conda-env-ml4fl_py38-py"
  },
  "language_info": {
   "codemirror_mode": {
    "name": "ipython",
    "version": 3
   },
   "file_extension": ".py",
   "mimetype": "text/x-python",
   "name": "python",
   "nbconvert_exporter": "python",
   "pygments_lexer": "ipython3",
   "version": "3.8.5"
  }
 },
 "nbformat": 4,
 "nbformat_minor": 5
}
