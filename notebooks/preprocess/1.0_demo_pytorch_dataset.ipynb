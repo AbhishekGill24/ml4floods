{
 "cells": [
  {
   "cell_type": "markdown",
   "id": "partial-browse",
   "metadata": {},
   "source": [
    "# PreProcessing Demonstration\n",
    "\n",
    "In this notebook, we will explore the PyTorch Dataset class and show how it can be used to handle input images. It should do some light preprocessing to make sure everything is available. \n",
    "\n",
    "Some things to note:\n",
    "* checks to see that there is a 1-to-1 correspondence between the datasets\n",
    "* does the tiling\n",
    "* exports tiles that are extra"
   ]
  },
  {
   "cell_type": "code",
   "execution_count": 1,
   "id": "large-carol",
   "metadata": {},
   "outputs": [],
   "source": [
    "# Helpful trick for loading the directories correction\n",
    "import sys, os\n",
    "from pyprojroot import here\n",
    "# spyder up to find the root\n",
    "root = here(project_files=[\".here\"])\n",
    "# append to path\n",
    "sys.path.append(str(here()))\n",
    "\n",
    "\n",
    "from src.data.worldfloods.dataset import WorldFloodsDataset\n",
    "\n",
    "# MATPLOTLIB Settings\n",
    "import matplotlib as mpl\n",
    "import matplotlib.pyplot as plt\n",
    "%matplotlib inline\n",
    "%config InlineBackend.figure_format = 'retina'\n",
    "\n",
    "# SEABORN SETTINGS\n",
    "import seaborn as sns\n",
    "sns.set_context(context='talk',font_scale=0.7)\n",
    "\n",
    "%load_ext autoreload\n",
    "%autoreload 2"
   ]
  },
  {
   "cell_type": "markdown",
   "id": "precise-means",
   "metadata": {},
   "source": [
    "## Load Demo Image\n",
    "\n",
    "For this demonstration, we need a S2 AND a groundtruth image. We have two that we can download."
   ]
  },
  {
   "cell_type": "code",
   "execution_count": 12,
   "id": "hazardous-strip",
   "metadata": {},
   "outputs": [
    {
     "name": "stdout",
     "output_type": "stream",
     "text": [
      "WorldFloodsImage(filename='ml4floods/worldfloods/public/train/S2/01042016_Holmes_Creek_at_Vernon_FL.tif', uri=None, filepath=None, bucket_id=None, product_id=None, load_date=datetime.datetime(2021, 2, 18, 9, 37, 11, 400721), source_system='Not Specified')\n",
      "Folder '/home/jemanjohnson34/projects/ml4floods/datasets/trials/image/S2' Is Already There.\n",
      "WorldFloodsImage(filename='ml4floods/worldfloods/public/train/gt/01042016_Holmes_Creek_at_Vernon_FL.tif', uri=None, filepath=None, bucket_id=None, product_id=None, load_date=datetime.datetime(2021, 2, 18, 9, 37, 11, 400721), source_system='Not Specified')\n",
      "Folder '/home/jemanjohnson34/projects/ml4floods/datasets/trials/image/gt' Is Already There.\n"
     ]
    }
   ],
   "source": [
    "from src.data.worldfloods.dataset import WorldFloodsImage\n",
    "from src.data.worldfloods.download import download_image, get_image_path\n",
    "from src.data.utils import download_data_from_bucket\n",
    "from pathlib import Path\n",
    "\n",
    "gs_index = \"gs://\"\n",
    "bucket_id = \"ml4floods\"\n",
    "path = \"worldfloods/public/\"\n",
    "sub_dir = \"train/S2\"\n",
    "file_name = \"01042016_Holmes_Creek_at_Vernon_FL.tif\"\n",
    "\n",
    "\n",
    "# ============\n",
    "# DATAIMAGE\n",
    "# ============\n",
    "file_name = \"ml4floods/worldfloods/public/train/S2/01042016_Holmes_Creek_at_Vernon_FL.tif\"\n",
    "dc_image_example = WorldFloodsImage(filename=file_name)\n",
    "print(dc_image_example)\n",
    "\n",
    "# download image from bucket\n",
    "destination_dir = Path(root).joinpath(\"datasets/trials/image/S2\")\n",
    "download_image(dc_image_example, destination_dir)\n",
    "\n",
    "\n",
    "# ============\n",
    "# GROUND TRUTH IMAGE\n",
    "# ============\n",
    "file_name = \"ml4floods/worldfloods/public/train/gt/01042016_Holmes_Creek_at_Vernon_FL.tif\"\n",
    "\n",
    "dc_gt_example = WorldFloodsImage(filename=file_name)\n",
    "print(dc_gt_example)\n",
    "\n",
    "# download image from bucket\n",
    "destination_dir = Path(root).joinpath(\"datasets/trials/image/gt\")\n",
    "download_image(dc_gt_example, destination_dir)\n",
    "\n"
   ]
  },
  {
   "cell_type": "code",
   "execution_count": 3,
   "id": "earned-highway",
   "metadata": {},
   "outputs": [
    {
     "name": "stdout",
     "output_type": "stream",
     "text": [
      "01042016_Holmes_Creek_at_Vernon_FL.tif\n"
     ]
    }
   ],
   "source": [
    "!ls /home/jemanjohnson34/projects/ml4floods/datasets/trials/image/S2"
   ]
  },
  {
   "cell_type": "markdown",
   "id": "velvet-messaging",
   "metadata": {},
   "source": [
    "## Outline the Immediate Steps\n",
    "\n",
    "* check for file correspondence between the directories"
   ]
  },
  {
   "cell_type": "code",
   "execution_count": null,
   "id": "regulated-latter",
   "metadata": {},
   "outputs": [],
   "source": []
  },
  {
   "cell_type": "markdown",
   "id": "compliant-skill",
   "metadata": {},
   "source": [
    "## Initialize PyTorch Dataset"
   ]
  },
  {
   "cell_type": "code",
   "execution_count": 4,
   "id": "ceramic-receiver",
   "metadata": {},
   "outputs": [],
   "source": [
    "import os\n",
    "import random\n",
    "from pathlib import Path\n",
    "from typing import Callable, List, Optional, Tuple\n",
    "\n",
    "import numpy as np\n",
    "import rasterio\n",
    "import rasterio.windows\n",
    "from torch.utils.data import Dataset\n",
    "\n",
    "from src.data.utils import check_path_exists\n",
    "from src.data.worldfloods.configs import CHANNELS_CONFIGURATIONS\n",
    "from src.data.worldfloods.prepare_data import prepare_data_func\n",
    "\n",
    "\n",
    "from dataclasses import dataclass, field\n",
    "from datetime import datetime\n",
    "from typing import List, Dict\n",
    "\n",
    "\n",
    "\n",
    "class WorldFloodsDataset(Dataset):\n",
    "    \"\"\"\n",
    "    A dataloader for the WorldFloods dataset.\n",
    "\n",
    "    Attributes\n",
    "    ----------\n",
    "    window_size: tuple(int, int)\n",
    "            size of the tiling window\n",
    "    image_prefix: str\n",
    "            the subdirectory name for the images\n",
    "    gt_prefix: str\n",
    "            the subdirectory name for the groundtruth\n",
    "    transform: Callable\n",
    "            NOT SURE WHAT THIS IS FOR (MAYBE IMAGE TRANSFORMS)\n",
    "    sample: bool\n",
    "            NOT SURE WHAT THIS IS FOR\n",
    "    last_filename: str\n",
    "            name of the file name that was pulled last\n",
    "    yield_smaller_patches: bool\n",
    "            flag to indicate whether to ignore the smaller tiles\n",
    "            at the end of the image after tiling\n",
    "    s2_channels: str\n",
    "            the channels to choose from the original image\n",
    "    dataset_dirs: str\n",
    "            root directory containing all the data\n",
    "    filepaths: List[str]\n",
    "            the directory for the images and groundtruths\n",
    "    slices: List[slice]\n",
    "            list of slices to extract tiles from the original image\n",
    "\n",
    "    \"\"\"\n",
    "\n",
    "    def __init__(\n",
    "        self,\n",
    "        image_files: List[str],\n",
    "        window_size: Tuple[int, int] = (128, 128),\n",
    "        image_prefix: str = \"/images/\",\n",
    "        gt_prefix: str = \"/gt/\",\n",
    "        image_suffix: str = \"tiff\",\n",
    "        transform: Callable = None,\n",
    "        limit=None,\n",
    "        sample: bool = False,\n",
    "        yield_smaller_patches: bool = False,\n",
    "        use_channels: List[str] = \"all\",\n",
    "    ):\n",
    "\n",
    "        self.image_files = image_files\n",
    "        self.window_size = window_size\n",
    "        self.image_prefix = image_prefix\n",
    "        self.gt_prefix = gt_prefix\n",
    "        self.image_suffix = image_suffix\n",
    "        self.transform = transform\n",
    "        self.limit = limit\n",
    "        self.sample = sample\n",
    "        self.last_filename = None\n",
    "        self.yield_smaller_patches = yield_smaller_patches\n",
    "\n",
    "        self.s2_channels = CHANNELS_CONFIGURATIONS[use_channels]\n",
    "\n",
    "\n",
    "        # sort to make sure that the order is deterministic\n",
    "        # (order of the flow of data points to the ML model)\n",
    "        # TODO: Do this for the list of filepaths at the end as well\n",
    "        self.image_files.sort()\n",
    "\n",
    "\n"
   ]
  },
  {
   "cell_type": "code",
   "execution_count": 5,
   "id": "beginning-skirt",
   "metadata": {},
   "outputs": [],
   "source": [
    "image_files = [\"/home/jemanjohnson34/projects/ml4floods/datasets/trials/image/S2/01042016_Holmes_Creek_at_Vernon_FL.tif\"]\n",
    "\n",
    "train_dataset = WorldFloodsDataset(\n",
    "    image_files=image_files,\n",
    ")"
   ]
  },
  {
   "cell_type": "markdown",
   "id": "substantial-casino",
   "metadata": {},
   "source": [
    "## Tiling\n",
    "\n",
    "First, we can access the rasterio dataset and get access to some of the attributes. The most important one for now is the `height` and `width`.\n",
    "\n",
    "**Source**: [StackOverFlow](https://gis.stackexchange.com/questions/285499/how-to-split-multiband-image-into-image-tiles-using-rasterio)"
   ]
  },
  {
   "cell_type": "code",
   "execution_count": 16,
   "id": "alpine-proof",
   "metadata": {},
   "outputs": [
    {
     "name": "stdout",
     "output_type": "stream",
     "text": [
      "<open DatasetReader name='gs://ml4floods/worldfloods/public/train/gt/01042016_Holmes_Creek_at_Vernon_FL.tif' mode='r'>\n",
      "<class 'rasterio.io.DatasetReader'>\n",
      "Height: 1980\n",
      "Width: 2841\n"
     ]
    }
   ],
   "source": [
    "with rasterio.open(\"gs://\"+get_image_path(dc_gt_example)) as dataset:\n",
    "    print(dataset)\n",
    "    print(type(dataset))\n",
    "    print(f\"Height: {dataset.meta['height']}\")\n",
    "    print(f\"Width: {dataset.meta['width']}\")"
   ]
  },
  {
   "cell_type": "code",
   "execution_count": 68,
   "id": "experienced-vertical",
   "metadata": {},
   "outputs": [],
   "source": [
    "from rasterio.io import DatasetReader\n",
    "from itertools import product\n",
    "from rasterio import windows\n",
    "import rasterio\n",
    "\n",
    "\n",
    "def get_tiles(\n",
    "    ds: rasterio.io.DatasetReader, height: int = 128, width: int = 123\n",
    ") -> rasterio.windows.Window:\n",
    "    \"\"\"a generator for rasterio specific slices given a rasterio dataset\n",
    "\n",
    "    Args:\n",
    "        ds (rasterio.io.DatasetReader): a rasterio dataset object\n",
    "        height (int): the height for the slice\n",
    "        width (int): the width for the slice\n",
    "\n",
    "    Yields:\n",
    "        window (rasterio.windows.Window): slicing\n",
    "    \"\"\"\n",
    "    # extract the row height from the dataset\n",
    "    n_columns, n_rows = ds.meta[\"width\"], ds.meta[\"height\"]\n",
    "\n",
    "    # create the offsets\n",
    "    offsets = product(range(0, n_columns, width), range(0, n_rows, height))\n",
    "\n",
    "    for col_offset, row_offset in offsets:\n",
    "        window = windows.Window(\n",
    "            col_off=col_offset,\n",
    "            row_off=row_offset,\n",
    "            width=width,\n",
    "            height=height,\n",
    "        )\n",
    "        yield window\n"
   ]
  },
  {
   "cell_type": "markdown",
   "id": "different-aside",
   "metadata": {},
   "source": [
    "### Quick Demo"
   ]
  },
  {
   "cell_type": "code",
   "execution_count": 69,
   "id": "accepted-gothic",
   "metadata": {},
   "outputs": [
    {
     "data": {
      "image/png": "[encoded data removed]",
      "text/plain": [
       "<Figure size 1440x2160 with 16 Axes>"
      ]
     },
     "metadata": {
      "image/png": {
       "height": 175,
       "width": 1164
      },
      "needs_background": "light"
     },
     "output_type": "display_data"
    }
   ],
   "source": [
    "from rasterio.plot import show as rasterio_show\n",
    "from mpl_toolkits.axes_grid1 import ImageGrid\n",
    "\n",
    "n_tiles = 8\n",
    "iteration = 0\n",
    "\n",
    "fig = plt.figure(figsize=(20., 30.))\n",
    "grid = ImageGrid(\n",
    "    fig, 111,\n",
    "    nrows_ncols=(1, n_tiles),\n",
    "    axes_pad=0.1,\n",
    ")\n",
    "\n",
    "with rasterio.open(\"gs://\"+get_image_path(dc_gt_example)) as dataset:\n",
    "    \n",
    "    for iax, window in zip(grid, get_tiles(dataset, 128, 128)):\n",
    "        \n",
    "        # open the dataset with only the window selected\n",
    "        sub_image = dataset.read(1, window=window)\n",
    "        \n",
    "        # display demo image\n",
    "        rasterio_show(sub_image, ax=iax, cmap=\"pink\")\n",
    "    \n",
    "        iteration += 1\n",
    "        \n",
    "        # stop the iteration once we've reached the classes\n",
    "        if iteration == n_tiles:\n",
    "            break\n",
    "        "
   ]
  },
  {
   "cell_type": "markdown",
   "id": "pregnant-seating",
   "metadata": {},
   "source": [
    "#### ML Modification (Equal Tiling)"
   ]
  },
  {
   "cell_type": "code",
   "execution_count": 32,
   "id": "fundamental-yorkshire",
   "metadata": {},
   "outputs": [
    {
     "name": "stdout",
     "output_type": "stream",
     "text": [
      "Continue: (128, 128) 1 16\n",
      "Continue: (128, 128) 2 16\n",
      "Continue: (128, 128) 3 16\n",
      "Continue: (128, 128) 4 16\n",
      "Continue: (128, 128) 5 16\n",
      "Continue: (128, 128) 6 16\n",
      "Continue: (128, 128) 7 16\n",
      "Continue: (128, 128) 8 16\n",
      "Continue: (128, 128) 9 16\n",
      "Continue: (128, 128) 10 16\n",
      "Continue: (128, 128) 11 16\n",
      "Continue: (128, 128) 12 16\n",
      "Continue: (128, 128) 13 16\n",
      "Continue: (128, 128) 14 16\n",
      "Continue: (128, 128) 15 16\n",
      "Ooops, image is not the correct size! Moving on...\n",
      "Continue: (128, 128) 16 16\n",
      "Reached # of iterations...Stopping\n"
     ]
    }
   ],
   "source": [
    "n_tiles = 16\n",
    "iteration = 0\n",
    "\n",
    "with rasterio.open(\"gs://\"+get_image_path(dc_example)) as dataset:\n",
    "    \n",
    "    for window in get_tiles(dataset, 128, 128):\n",
    "        \n",
    "        \n",
    "        # open the dataset with only the window selected\n",
    "        sub_image = dataset.read(1, window=window)\n",
    "        \n",
    "        if sub_image.shape != (128, 128):\n",
    "            print(\"Ooops, image is not the correct size! Moving on...\")\n",
    "            continue\n",
    "    \n",
    "        iteration += 1\n",
    "        print(\"Continue:\", sub_image.shape, iteration, n_tiles)\n",
    "        \n",
    "        # stop the iteration once we've reached the classes\n",
    "        if iteration == n_tiles:\n",
    "            print('Reached # of iterations...Stopping')\n",
    "            break\n",
    "        \n",
    "        "
   ]
  },
  {
   "cell_type": "code",
   "execution_count": null,
   "id": "related-sunset",
   "metadata": {},
   "outputs": [],
   "source": []
  },
  {
   "cell_type": "code",
   "execution_count": 15,
   "id": "productive-aaron",
   "metadata": {},
   "outputs": [
    {
     "data": {
      "text/plain": [
       "(128, 128)"
      ]
     },
     "execution_count": 15,
     "metadata": {},
     "output_type": "execute_result"
    }
   ],
   "source": [
    "window.height, window.width"
   ]
  },
  {
   "cell_type": "code",
   "execution_count": null,
   "id": "compound-wayne",
   "metadata": {},
   "outputs": [],
   "source": [
    "            \n",
    "def get_equal_tiles(ds: DatasetReader, height: int=128, width: int=123) -> np.ndarray:\n",
    "    \n",
    "    for window in get_tiles(ds=ds, height=height, width=width):\n",
    "        if (window.height, window.width) == (height, width):\n",
    "            yield window\n",
    "        else:\n",
    "            continue"
   ]
  },
  {
   "cell_type": "markdown",
   "id": "raised-round",
   "metadata": {},
   "source": [
    "### Saving the Tiles"
   ]
  },
  {
   "cell_type": "markdown",
   "id": "proper-region",
   "metadata": {},
   "source": [
    "##### IMAGES"
   ]
  },
  {
   "cell_type": "code",
   "execution_count": 106,
   "id": "arbitrary-colleague",
   "metadata": {},
   "outputs": [
    {
     "name": "stdout",
     "output_type": "stream",
     "text": [
      "01042016_Holmes_Creek_at_Vernon_FL.tif\tS2  gt\tgt_tiles  tiles\n",
      "01042016_Holmes_Creek_at_Vernon_FL.tif\tS2  gt\tgt_tiles  image_tiles  tiles\n"
     ]
    }
   ],
   "source": [
    "!rm -rf /home/jemanjohnson34/projects/ml4floods/datasets/trials/image/image_tiles\n",
    "!ls /home/jemanjohnson34/projects/ml4floods/datasets/trials/image/\n",
    "!mkdir /home/jemanjohnson34/projects/ml4floods/datasets/trials/image/image_tiles/\n",
    "!ls /home/jemanjohnson34/projects/ml4floods/datasets/trials/image/"
   ]
  },
  {
   "cell_type": "code",
   "execution_count": 107,
   "id": "moderate-protein",
   "metadata": {},
   "outputs": [
    {
     "name": "stdout",
     "output_type": "stream",
     "text": [
      "Ooops, image is not the correct size! Moving on...\n",
      "Reached # of iterations...Stopping\n"
     ]
    }
   ],
   "source": [
    "# output directory\n",
    "output_tile_dir = \"/home/jemanjohnson34/projects/ml4floods/datasets/trials/image/image_tiles/\"\n",
    "file_name = \"01042016_Holmes_Creek_at_Vernon_FL\"\n",
    "\n",
    "n_tiles = 16\n",
    "itile = 0\n",
    "with rasterio.open(\"gs://\"+get_image_path(dc_image_example)) as dataset:\n",
    "    \n",
    "    # copy the metadata\n",
    "    window_meta = dataset.meta.copy()\n",
    "    \n",
    "    # loop through tiling generator\n",
    "    for window in get_tiles(dataset, 128, 128):\n",
    "        \n",
    "        # copy the meta data\n",
    "        window_meta[\"width\"] = window.width\n",
    "        window_meta[\"height\"] = window.height\n",
    "        \n",
    "        # check for shape is the same as window_size we want!\n",
    "        if dataset.read(1, window=window).shape != (128, 128):\n",
    "            print(\"Ooops, image is not the correct size! Moving on...\")\n",
    "            continue\n",
    "        else:\n",
    "            # create unique filename for the window\n",
    "            window_file_name = f\"{file_name}_tile_{itile}.tif\"\n",
    "            \n",
    "            # filepath for saving\n",
    "            output_tile_file_name = str(Path(output_tile_dir).joinpath(window_file_name))\n",
    "            \n",
    "            # open file and also save meta data\n",
    "            with rasterio.open(output_tile_file_name, \"w\", **window_meta) as out_f:\n",
    "                out_f.write(dataset.read(window=window))\n",
    "            \n",
    "        \n",
    "        itile += 1\n",
    "        \n",
    "        # stop the iteration once we've reached the classes\n",
    "        if itile == n_tiles:\n",
    "            print('Reached # of iterations...Stopping')\n",
    "            break"
   ]
  },
  {
   "cell_type": "code",
   "execution_count": 108,
   "id": "mechanical-finland",
   "metadata": {},
   "outputs": [
    {
     "name": "stdout",
     "output_type": "stream",
     "text": [
      "01042016_Holmes_Creek_at_Vernon_FL.tif\tS2  gt\timage_tiles  tiles\n",
      "01042016_Holmes_Creek_at_Vernon_FL.tif\tS2  gt\tgt_tiles  image_tiles  tiles\n"
     ]
    }
   ],
   "source": [
    "!rm -rf /home/jemanjohnson34/projects/ml4floods/datasets/trials/image/gt_tiles\n",
    "!ls /home/jemanjohnson34/projects/ml4floods/datasets/trials/image/\n",
    "!mkdir /home/jemanjohnson34/projects/ml4floods/datasets/trials/image/gt_tiles/\n",
    "!ls /home/jemanjohnson34/projects/ml4floods/datasets/trials/image/"
   ]
  },
  {
   "cell_type": "code",
   "execution_count": 109,
   "id": "pressing-novel",
   "metadata": {},
   "outputs": [
    {
     "name": "stdout",
     "output_type": "stream",
     "text": [
      "Ooops, image is not the correct size! Moving on...\n",
      "Reached # of iterations...Stopping\n"
     ]
    }
   ],
   "source": [
    "# output directory\n",
    "output_tile_dir = \"/home/jemanjohnson34/projects/ml4floods/datasets/trials/image/gt_tiles/\"\n",
    "file_name = \"01042016_Holmes_Creek_at_Vernon_FL\"\n",
    "\n",
    "n_tiles = 16\n",
    "itile = 0\n",
    "with rasterio.open(\"gs://\"+get_image_path(dc_gt_example)) as dataset:\n",
    "    \n",
    "    # copy the metadata\n",
    "    window_meta = dataset.meta.copy()\n",
    "    \n",
    "    # loop through tiling generator\n",
    "    for window in get_tiles(dataset, 128, 128):\n",
    "        \n",
    "        # copy the meta data\n",
    "        window_meta[\"width\"] = window.width\n",
    "        window_meta[\"height\"] = window.height\n",
    "        \n",
    "        # check for shape is the same as window_size we want!\n",
    "        if dataset.read(1, window=window).shape != (128, 128):\n",
    "            print(\"Ooops, image is not the correct size! Moving on...\")\n",
    "            continue\n",
    "        else:\n",
    "            # create unique filename for the window\n",
    "            window_file_name = f\"{file_name}_tile_{itile}.tif\"\n",
    "            \n",
    "            # filepath for saving\n",
    "            output_tile_file_name = str(Path(output_tile_dir).joinpath(window_file_name))\n",
    "            \n",
    "            # open file and also save meta data\n",
    "            with rasterio.open(output_tile_file_name, \"w\", **window_meta) as out_f:\n",
    "                out_f.write(dataset.read(window=window))\n",
    "            \n",
    "        \n",
    "        itile += 1\n",
    "        \n",
    "        # stop the iteration once we've reached the classes\n",
    "        if itile == n_tiles:\n",
    "            print('Reached # of iterations...Stopping')\n",
    "            break"
   ]
  },
  {
   "cell_type": "code",
   "execution_count": 110,
   "id": "subtle-absolute",
   "metadata": {},
   "outputs": [
    {
     "name": "stdout",
     "output_type": "stream",
     "text": [
      "01042016_Holmes_Creek_at_Vernon_FL_tile_0.tif\n",
      "01042016_Holmes_Creek_at_Vernon_FL_tile_1.tif\n",
      "01042016_Holmes_Creek_at_Vernon_FL_tile_10.tif\n",
      "01042016_Holmes_Creek_at_Vernon_FL_tile_11.tif\n",
      "01042016_Holmes_Creek_at_Vernon_FL_tile_12.tif\n",
      "01042016_Holmes_Creek_at_Vernon_FL_tile_13.tif\n",
      "01042016_Holmes_Creek_at_Vernon_FL_tile_14.tif\n",
      "01042016_Holmes_Creek_at_Vernon_FL_tile_15.tif\n",
      "01042016_Holmes_Creek_at_Vernon_FL_tile_2.tif\n",
      "01042016_Holmes_Creek_at_Vernon_FL_tile_3.tif\n",
      "01042016_Holmes_Creek_at_Vernon_FL_tile_4.tif\n",
      "01042016_Holmes_Creek_at_Vernon_FL_tile_5.tif\n",
      "01042016_Holmes_Creek_at_Vernon_FL_tile_6.tif\n",
      "01042016_Holmes_Creek_at_Vernon_FL_tile_7.tif\n",
      "01042016_Holmes_Creek_at_Vernon_FL_tile_8.tif\n",
      "01042016_Holmes_Creek_at_Vernon_FL_tile_9.tif\n"
     ]
    }
   ],
   "source": [
    "!ls /home/jemanjohnson34/projects/ml4floods/datasets/trials/image/gt_tiles/"
   ]
  },
  {
   "cell_type": "markdown",
   "id": "continental-server",
   "metadata": {},
   "source": [
    "### Potential Improvements\n",
    "\n",
    "So this can be very slow if we need to call this many times. Generators are nice as they do save on memory, however, I can see this being slow if we want to use this to do many calls. \n",
    "\n",
    "---\n",
    "#### 1 - Concurrent Processing\n",
    "\n",
    "This will allow us to read and write concurrently. It will be a much faster method.\n",
    "\n",
    "**Source**: [Rasterio Docs](https://rasterio.readthedocs.io/en/latest/topics/concurrency.html)\n",
    "\n",
    "---\n",
    "#### 2 - Better Naming Convention\n",
    "\n",
    "All I did was create a simple naming scheme via some order. But it would be nice to have that already done.\n",
    "\n",
    "---\n",
    "\n",
    "#### 3 - ML-Style saving\n",
    "\n",
    "For ML tasks, it is necessary\n",
    "\n",
    "---\n",
    "#### 4 - Transformations\n",
    "\n",
    "When we grab the tiles, we may want to do some sort of transformation. That will require more work for the application. But that transformation should be embedded within the actual tile extraction. "
   ]
  },
  {
   "cell_type": "markdown",
   "id": "jewish-marketing",
   "metadata": {},
   "source": [
    "## ML Loading Demo"
   ]
  },
  {
   "cell_type": "markdown",
   "id": "rural-franklin",
   "metadata": {},
   "source": [
    "#### All files in directory"
   ]
  },
  {
   "cell_type": "code",
   "execution_count": 99,
   "id": "recovered-structure",
   "metadata": {},
   "outputs": [
    {
     "name": "stdout",
     "output_type": "stream",
     "text": [
      "ls: cannot access '/home/jemanjohnson34/projects/ml4floods/datasets/trials/images/gt_tiles/': No such file or directory\n"
     ]
    }
   ],
   "source": [
    "!ls /home/jemanjohnson34/projects/ml4floods/datasets/trials/images/gt_tiles/"
   ]
  },
  {
   "cell_type": "code",
   "execution_count": 119,
   "id": "everyday-emphasis",
   "metadata": {},
   "outputs": [
    {
     "data": {
      "text/plain": [
       "['/home/jemanjohnson34/projects/ml4floods/datasets/trials/image/image_tiles/01042016_Holmes_Creek_at_Vernon_FL_tile_14.tif',\n",
       " '/home/jemanjohnson34/projects/ml4floods/datasets/trials/image/image_tiles/01042016_Holmes_Creek_at_Vernon_FL_tile_8.tif',\n",
       " '/home/jemanjohnson34/projects/ml4floods/datasets/trials/image/image_tiles/01042016_Holmes_Creek_at_Vernon_FL_tile_3.tif',\n",
       " '/home/jemanjohnson34/projects/ml4floods/datasets/trials/image/image_tiles/01042016_Holmes_Creek_at_Vernon_FL_tile_1.tif',\n",
       " '/home/jemanjohnson34/projects/ml4floods/datasets/trials/image/image_tiles/01042016_Holmes_Creek_at_Vernon_FL_tile_5.tif',\n",
       " '/home/jemanjohnson34/projects/ml4floods/datasets/trials/image/image_tiles/01042016_Holmes_Creek_at_Vernon_FL_tile_15.tif',\n",
       " '/home/jemanjohnson34/projects/ml4floods/datasets/trials/image/image_tiles/01042016_Holmes_Creek_at_Vernon_FL_tile_6.tif',\n",
       " '/home/jemanjohnson34/projects/ml4floods/datasets/trials/image/image_tiles/01042016_Holmes_Creek_at_Vernon_FL_tile_12.tif',\n",
       " '/home/jemanjohnson34/projects/ml4floods/datasets/trials/image/image_tiles/01042016_Holmes_Creek_at_Vernon_FL_tile_7.tif',\n",
       " '/home/jemanjohnson34/projects/ml4floods/datasets/trials/image/image_tiles/01042016_Holmes_Creek_at_Vernon_FL_tile_13.tif',\n",
       " '/home/jemanjohnson34/projects/ml4floods/datasets/trials/image/image_tiles/01042016_Holmes_Creek_at_Vernon_FL_tile_9.tif',\n",
       " '/home/jemanjohnson34/projects/ml4floods/datasets/trials/image/image_tiles/01042016_Holmes_Creek_at_Vernon_FL_tile_10.tif',\n",
       " '/home/jemanjohnson34/projects/ml4floods/datasets/trials/image/image_tiles/01042016_Holmes_Creek_at_Vernon_FL_tile_4.tif',\n",
       " '/home/jemanjohnson34/projects/ml4floods/datasets/trials/image/image_tiles/01042016_Holmes_Creek_at_Vernon_FL_tile_2.tif',\n",
       " '/home/jemanjohnson34/projects/ml4floods/datasets/trials/image/image_tiles/01042016_Holmes_Creek_at_Vernon_FL_tile_0.tif',\n",
       " '/home/jemanjohnson34/projects/ml4floods/datasets/trials/image/image_tiles/01042016_Holmes_Creek_at_Vernon_FL_tile_11.tif']"
      ]
     },
     "execution_count": 119,
     "metadata": {},
     "output_type": "execute_result"
    }
   ],
   "source": [
    "directory = \"/home/jemanjohnson34/projects/ml4floods/datasets/trials/image/image_tiles/\"\n",
    "p = Path(directory).glob('*.tif')\n",
    "files = [str(x) for x in p if x.is_file()]\n",
    "files"
   ]
  },
  {
   "cell_type": "code",
   "execution_count": 123,
   "id": "planned-battlefield",
   "metadata": {},
   "outputs": [
    {
     "data": {
      "text/plain": [
       "'/home/jemanjohnson34/projects/ml4floods/datasets/trials/image/gt_tiles/01042016_Holmes_Creek_at_Vernon_FL_tile_14.tif'"
      ]
     },
     "execution_count": 123,
     "metadata": {},
     "output_type": "execute_result"
    }
   ],
   "source": [
    "image_prefix = \"image_tiles\"\n",
    "gt_prefix = \"gt_tiles\"\n",
    "files[0].replace(image_prefix, gt_prefix, 1)"
   ]
  },
  {
   "cell_type": "code",
   "execution_count": 116,
   "id": "illegal-fourth",
   "metadata": {},
   "outputs": [
    {
     "name": "stdout",
     "output_type": "stream",
     "text": [
      "01042016_Holmes_Creek_at_Vernon_FL_tile_0.tif\n",
      "01042016_Holmes_Creek_at_Vernon_FL_tile_1.tif\n",
      "01042016_Holmes_Creek_at_Vernon_FL_tile_10.tif\n",
      "01042016_Holmes_Creek_at_Vernon_FL_tile_11.tif\n",
      "01042016_Holmes_Creek_at_Vernon_FL_tile_12.tif\n",
      "01042016_Holmes_Creek_at_Vernon_FL_tile_13.tif\n",
      "01042016_Holmes_Creek_at_Vernon_FL_tile_14.tif\n",
      "01042016_Holmes_Creek_at_Vernon_FL_tile_15.tif\n",
      "01042016_Holmes_Creek_at_Vernon_FL_tile_2.tif\n",
      "01042016_Holmes_Creek_at_Vernon_FL_tile_3.tif\n",
      "01042016_Holmes_Creek_at_Vernon_FL_tile_4.tif\n",
      "01042016_Holmes_Creek_at_Vernon_FL_tile_5.tif\n",
      "01042016_Holmes_Creek_at_Vernon_FL_tile_6.tif\n",
      "01042016_Holmes_Creek_at_Vernon_FL_tile_7.tif\n",
      "01042016_Holmes_Creek_at_Vernon_FL_tile_8.tif\n",
      "01042016_Holmes_Creek_at_Vernon_FL_tile_9.tif\n"
     ]
    }
   ],
   "source": [
    "!ls /home/jemanjohnson34/projects/ml4floods/datasets/trials/image/gt_tiles"
   ]
  },
  {
   "cell_type": "code",
   "execution_count": 117,
   "id": "welsh-minimum",
   "metadata": {},
   "outputs": [
    {
     "name": "stdout",
     "output_type": "stream",
     "text": [
      "01042016_Holmes_Creek_at_Vernon_FL_tile_0.tif\n",
      "01042016_Holmes_Creek_at_Vernon_FL_tile_1.tif\n",
      "01042016_Holmes_Creek_at_Vernon_FL_tile_10.tif\n",
      "01042016_Holmes_Creek_at_Vernon_FL_tile_11.tif\n",
      "01042016_Holmes_Creek_at_Vernon_FL_tile_12.tif\n",
      "01042016_Holmes_Creek_at_Vernon_FL_tile_13.tif\n",
      "01042016_Holmes_Creek_at_Vernon_FL_tile_14.tif\n",
      "01042016_Holmes_Creek_at_Vernon_FL_tile_15.tif\n",
      "01042016_Holmes_Creek_at_Vernon_FL_tile_2.tif\n",
      "01042016_Holmes_Creek_at_Vernon_FL_tile_3.tif\n",
      "01042016_Holmes_Creek_at_Vernon_FL_tile_4.tif\n",
      "01042016_Holmes_Creek_at_Vernon_FL_tile_5.tif\n",
      "01042016_Holmes_Creek_at_Vernon_FL_tile_6.tif\n",
      "01042016_Holmes_Creek_at_Vernon_FL_tile_7.tif\n",
      "01042016_Holmes_Creek_at_Vernon_FL_tile_8.tif\n",
      "01042016_Holmes_Creek_at_Vernon_FL_tile_9.tif\n"
     ]
    }
   ],
   "source": [
    "!ls /home/jemanjohnson34/projects/ml4floods/datasets/trials/image/image_tiles"
   ]
  },
  {
   "cell_type": "code",
   "execution_count": null,
   "id": "stopped-teddy",
   "metadata": {},
   "outputs": [],
   "source": []
  },
  {
   "cell_type": "code",
   "execution_count": 115,
   "id": "first-apollo",
   "metadata": {},
   "outputs": [
    {
     "name": "stdout",
     "output_type": "stream",
     "text": [
      "/home/jemanjohnson34/projects/ml4floods/datasets/trials/image\n"
     ]
    },
    {
     "ename": "OSError",
     "evalue": "[Errno 39] Directory not empty: '/home/jemanjohnson34/projects/ml4floods/datasets/trials/image/image_tiles' -> '/home/jemanjohnson34/projects/ml4floods/datasets/trials/image/gt_tiles'",
     "output_type": "error",
     "traceback": [
      "\u001b[0;31m---------------------------------------------------------------------------\u001b[0m",
      "\u001b[0;31mOSError\u001b[0m                                   Traceback (most recent call last)",
      "\u001b[0;32m<ipython-input-115-b8663e4266fb>\u001b[0m in \u001b[0;36m<module>\u001b[0;34m\u001b[0m\n\u001b[1;32m      3\u001b[0m \u001b[0mimage_parent\u001b[0m \u001b[0;34m=\u001b[0m \u001b[0mpath_dir\u001b[0m\u001b[0;34m.\u001b[0m\u001b[0mparent\u001b[0m\u001b[0;34m\u001b[0m\u001b[0;34m\u001b[0m\u001b[0m\n\u001b[1;32m      4\u001b[0m \u001b[0mprint\u001b[0m\u001b[0;34m(\u001b[0m\u001b[0mimage_parent\u001b[0m\u001b[0;34m)\u001b[0m\u001b[0;34m\u001b[0m\u001b[0;34m\u001b[0m\u001b[0m\n\u001b[0;32m----> 5\u001b[0;31m \u001b[0mt\u001b[0m \u001b[0;34m=\u001b[0m \u001b[0mpath_dir\u001b[0m\u001b[0;34m.\u001b[0m\u001b[0mreplace\u001b[0m\u001b[0;34m(\u001b[0m\u001b[0mimage_parent\u001b[0m\u001b[0;34m.\u001b[0m\u001b[0mparent\u001b[0m \u001b[0;34m/\u001b[0m \u001b[0;34m\"image/gt_tiles\"\u001b[0m\u001b[0;34m)\u001b[0m\u001b[0;34m\u001b[0m\u001b[0;34m\u001b[0m\u001b[0m\n\u001b[0m\u001b[1;32m      6\u001b[0m \u001b[0mprint\u001b[0m\u001b[0;34m(\u001b[0m\u001b[0mt\u001b[0m\u001b[0;34m)\u001b[0m\u001b[0;34m\u001b[0m\u001b[0;34m\u001b[0m\u001b[0m\n",
      "\u001b[0;32m~/software/miniconda3/envs/ml4f_dj/lib/python3.8/pathlib.py\u001b[0m in \u001b[0;36mreplace\u001b[0;34m(self, target)\u001b[0m\n\u001b[1;32m   1367\u001b[0m         \u001b[0;32mif\u001b[0m \u001b[0mself\u001b[0m\u001b[0;34m.\u001b[0m\u001b[0m_closed\u001b[0m\u001b[0;34m:\u001b[0m\u001b[0;34m\u001b[0m\u001b[0;34m\u001b[0m\u001b[0m\n\u001b[1;32m   1368\u001b[0m             \u001b[0mself\u001b[0m\u001b[0;34m.\u001b[0m\u001b[0m_raise_closed\u001b[0m\u001b[0;34m(\u001b[0m\u001b[0;34m)\u001b[0m\u001b[0;34m\u001b[0m\u001b[0;34m\u001b[0m\u001b[0m\n\u001b[0;32m-> 1369\u001b[0;31m         \u001b[0mself\u001b[0m\u001b[0;34m.\u001b[0m\u001b[0m_accessor\u001b[0m\u001b[0;34m.\u001b[0m\u001b[0mreplace\u001b[0m\u001b[0;34m(\u001b[0m\u001b[0mself\u001b[0m\u001b[0;34m,\u001b[0m \u001b[0mtarget\u001b[0m\u001b[0;34m)\u001b[0m\u001b[0;34m\u001b[0m\u001b[0;34m\u001b[0m\u001b[0m\n\u001b[0m\u001b[1;32m   1370\u001b[0m         \u001b[0;32mreturn\u001b[0m \u001b[0mself\u001b[0m\u001b[0;34m.\u001b[0m\u001b[0m__class__\u001b[0m\u001b[0;34m(\u001b[0m\u001b[0mtarget\u001b[0m\u001b[0;34m)\u001b[0m\u001b[0;34m\u001b[0m\u001b[0;34m\u001b[0m\u001b[0m\n\u001b[1;32m   1371\u001b[0m \u001b[0;34m\u001b[0m\u001b[0m\n",
      "\u001b[0;31mOSError\u001b[0m: [Errno 39] Directory not empty: '/home/jemanjohnson34/projects/ml4floods/datasets/trials/image/image_tiles' -> '/home/jemanjohnson34/projects/ml4floods/datasets/trials/image/gt_tiles'"
     ]
    }
   ],
   "source": [
    "# get groundtruth directory\n",
    "path_dir = Path(\"/home/jemanjohnson34/projects/ml4floods/datasets/trials/image/image_tiles\")\n",
    "image_parent = path_dir.parent\n",
    "print(image_parent)\n",
    "t = path_dir.replace(image_parent.parent / \"image/gt_tiles\")\n",
    "print(t)"
   ]
  },
  {
   "cell_type": "code",
   "execution_count": null,
   "id": "productive-tumor",
   "metadata": {},
   "outputs": [],
   "source": [
    "directory = \"/home/jemanjohnson34/projects/ml4floods/datasets/trials/image/\"\n",
    "image_prefix = \"\"\n",
    "all_file_names = Path()"
   ]
  },
  {
   "cell_type": "code",
   "execution_count": 143,
   "id": "behind-shepherd",
   "metadata": {},
   "outputs": [],
   "source": [
    "class WorldFloodsDataset(Dataset):\n",
    "    \"\"\"\n",
    "    A dataloader for the WorldFloods dataset.\n",
    "\n",
    "    Attributes\n",
    "    ----------\n",
    "    window_size: tuple(int, int)\n",
    "            size of the tiling window\n",
    "    image_prefix: str\n",
    "            the subdirectory name for the images\n",
    "    gt_prefix: str\n",
    "            the subdirectory name for the groundtruth\n",
    "    transform: Callable\n",
    "            NOT SURE WHAT THIS IS FOR (MAYBE IMAGE TRANSFORMS)\n",
    "    sample: bool\n",
    "            NOT SURE WHAT THIS IS FOR\n",
    "    last_filename: str\n",
    "            name of the file name that was pulled last\n",
    "    yield_smaller_patches: bool\n",
    "            flag to indicate whether to ignore the smaller tiles\n",
    "            at the end of the image after tiling\n",
    "    s2_channels: str\n",
    "            the channels to choose from the original image\n",
    "    dataset_dirs: str\n",
    "            root directory containing all the data\n",
    "    filepaths: List[str]\n",
    "            the directory for the images and groundtruths\n",
    "    slices: List[slice]\n",
    "            list of slices to extract tiles from the original image\n",
    "\n",
    "    \"\"\"\n",
    "\n",
    "    def __init__(\n",
    "        self,\n",
    "        image_files: List[str],\n",
    "        image_prefix: str = \"/image_files/\",\n",
    "        gt_prefix: str = \"/gt_files/\",\n",
    "    ):\n",
    "\n",
    "        self.image_files = image_files\n",
    "        self.image_prefix = image_prefix\n",
    "        self.gt_prefix = gt_prefix\n",
    "\n",
    "\n",
    "        # sort to make sure that the order is deterministic\n",
    "        # (order of the flow of data points to the ML model)\n",
    "        # TODO: Do this for the list of filepaths at the end as well\n",
    "        self.image_files.sort()\n",
    "\n",
    "    def __getitem__(self, idx):\n",
    "        \n",
    "        # get filenames\n",
    "        x_name = self.image_files[idx]\n",
    "        y_name = x_name.replace(self.image_prefix, gt_prefix, 1)\n",
    "        \n",
    "        # Open Image File\n",
    "        with rasterio.open(x_name) as f:\n",
    "            x_tif = f.read(1)\n",
    "            \n",
    "        # Open Ground Truth File\n",
    "        with rasterio.open(y_name) as f:\n",
    "            y_tif = f.read(1)\n",
    "        \n",
    "        # get the channels\n",
    "        return x_tif, y_tif"
   ]
  },
  {
   "cell_type": "code",
   "execution_count": 148,
   "id": "polish-concept",
   "metadata": {},
   "outputs": [],
   "source": [
    "def get_files_in_directory(directory: str, suffix: str) -> List[str]:\n",
    "    p = Path(directory).glob(f'*{suffix}')\n",
    "    files = [str(x) for x in p if x.is_file()]\n",
    "    return files\n",
    "\n",
    "def get_filenames_in_directory(directory: str, suffix: str) -> List[str]:\n",
    "    p = Path(directory).glob(f'*{suffix}')\n",
    "    files = [str(x.name) for x in p if x.is_file()]\n",
    "    return files"
   ]
  },
  {
   "cell_type": "code",
   "execution_count": 145,
   "id": "cooked-evening",
   "metadata": {},
   "outputs": [],
   "source": [
    "image_prefix = \"image_tiles\"\n",
    "gt_prefix = \"gt_tiles\"\n",
    "pt_ds = WorldFloodsDataset(files, image_prefix, gt_prefix)"
   ]
  },
  {
   "cell_type": "code",
   "execution_count": 146,
   "id": "committed-climb",
   "metadata": {},
   "outputs": [],
   "source": [
    "x, y = pt_ds[10]"
   ]
  },
  {
   "cell_type": "code",
   "execution_count": 147,
   "id": "cleared-medication",
   "metadata": {},
   "outputs": [
    {
     "data": {
      "image/png": "[encoded data removed]",
      "text/plain": [
       "<Figure size 720x720 with 2 Axes>"
      ]
     },
     "metadata": {
      "image/png": {
       "height": 307,
       "width": 607
      },
      "needs_background": "light"
     },
     "output_type": "display_data"
    }
   ],
   "source": [
    "fig, ax = plt.subplots(figsize=(10, 10), ncols=2)\n",
    "\n",
    "ax[0].imshow(x)\n",
    "ax[0].set_title(\"Image\")\n",
    "\n",
    "ax[1].imshow(y)\n",
    "ax[1].set_title(\"Ground Truth\")\n",
    "\n",
    "plt.show()"
   ]
  },
  {
   "cell_type": "code",
   "execution_count": null,
   "id": "indirect-toronto",
   "metadata": {},
   "outputs": [],
   "source": [
    "#         self.filepaths = prepare_data_func(self)\n",
    "#         self.slices = None\n",
    "\n",
    "#         if (self.window_size is not None) and not self.sample:\n",
    "#             self._include_all(yield_smaller_patches)\n",
    "#             if limit is not None:\n",
    "#                 vals = np.random.choice(\n",
    "#                     a=len(self.filepaths), size=limit, replace=False\n",
    "#                 )\n",
    "#                 self.filepaths = [self.filepaths[idx_v] for idx_v in vals]\n",
    "#                 self.slices = [self.slices[idx_v] for idx_v in vals]\n",
    "\n",
    "#     def _include_all(self, yield_smaller_patches=False):\n",
    "#         \"\"\"\n",
    "#         Replace the original filepaths with the tiled filenames and\n",
    "#         slice indices of the tiled images.\n",
    "\n",
    "#         :param      yield_smaller_patches:  flag to indicate whether to ignore\n",
    "#                                                                                 the smaller tiles at the end of the\n",
    "#                                                                                 image after tiling\n",
    "#         :type       yield_smaller_patches:  boolean\n",
    "#         \"\"\"\n",
    "\n",
    "#         tiled_filenames = []\n",
    "#         slices = []\n",
    "\n",
    "#         for filepath in self.filepaths:\n",
    "#             orig_image_shape = rasterio.open(filepath).shape\n",
    "\n",
    "#             # list of x,y coordinate positions for the tiles\n",
    "#             tile_start_coord_x = np.arange(0, orig_image_shape[0], self.window_size[0])\n",
    "#             tile_start_coord_y = np.arange(0, orig_image_shape[1], self.window_size[1])\n",
    "\n",
    "#             # tiling the entire image by storing the filepath and slices of individual tiles\n",
    "#             for r in tile_start_coord_x:\n",
    "#                 for c in tile_start_coord_y:\n",
    "#                     slice_ = (\n",
    "#                         slice(r, min(r + self.window_size[0], orig_image_shape[0])),\n",
    "#                         slice(c, min(c + self.window_size[1], orig_image_shape[1])),\n",
    "#                     )\n",
    "\n",
    "#                     shape_slice = tuple([s.stop - s.start for s in slice_])\n",
    "\n",
    "#                     # ignore the tiles that are smaller than the specified window_size\n",
    "#                     # if shape_slice != self.window_size and not yield_smaller_patches:\n",
    "#                     # TODO: check the logic of this negation\n",
    "#                     if shape_slice != self.window_size and yield_smaller_patches:\n",
    "#                         continue\n",
    "\n",
    "#                     tiled_filenames.append(filepath)\n",
    "#                     slices.append(slice_)\n",
    "\n",
    "#         # updating the attributes after tiling\n",
    "#         self.filepaths = tiled_filenames\n",
    "#         self.slices = slices\n",
    "\n",
    "#     def __getitem__(self, idx):\n",
    "#         \"\"\"\n",
    "#         Extract items using index values\n",
    "\n",
    "#         :param      idx:                The index\n",
    "#         :type       idx:                int\n",
    "\n",
    "#         :returns:   image and the ground truth\n",
    "#         :rtype:     tuple(ndarray, ndarray)\n",
    "#         \"\"\"\n",
    "#         x_name = self.filepaths[idx]\n",
    "\n",
    "#         self.last_filename = self.filepaths[idx]\n",
    "\n",
    "#         x_tif = rasterio.open(x_name)\n",
    "\n",
    "#         # define the window size from the tile slice\n",
    "#         # default window size is the same as the original image size.\n",
    "#         if self.window_size is None:\n",
    "#             window = rasterio.windows.Window.from_slices(\n",
    "#                 slice(0, x_tif.shape[0]), slice(0, x_tif.shape[1])\n",
    "#             )\n",
    "#         else:\n",
    "#             slice_ = self.slices[idx]\n",
    "#             window = rasterio.windows.Window.from_slices(*slice_)\n",
    "\n",
    "#         # Read input as the selected channels from the original image\n",
    "#         channels_1_index_base_rasterio = [s + 1 for s in self.s2_channels]\n",
    "#         x = x_tif.read(channels_1_index_base_rasterio, window=window)\n",
    "\n",
    "#         # get rid of nan, convert to float\n",
    "#         x = np.nan_to_num(x).astype(np.float32)\n",
    "\n",
    "#         # Read from GT mask\n",
    "#         y_name = x_name.replace(self.image_prefix, self.gt_prefix, 1)\n",
    "#         y_tif = rasterio.open(y_name)\n",
    "#         if x_tif.bounds != y_tif.bounds:\n",
    "#             raise RuntimeError(\n",
    "#                 f\"Bounds for tif files {x_name} and {y_name} do not match\"\n",
    "#             )\n",
    "\n",
    "#         # gt values {0: invalid, 1: land, 2: water, 3: cloud}\n",
    "#         y_gt = y_tif.read(window=window)\n",
    "\n",
    "#         # TODO: Need to check why the 0th index.\n",
    "#         y = np.nan_to_num(y_gt[0])\n",
    "\n",
    "#         # Apply transformation\n",
    "#         if self.transform is not None:\n",
    "#             res = self.transform(image=x.transpose(1, 2, 0), mask=y)\n",
    "#             x, y = res[\"image\"], res[\"mask\"]\n",
    "\n",
    "#         return x, y"
   ]
  }
 ],
 "metadata": {
  "kernelspec": {
   "display_name": "Python [conda env:ml4f_dj]",
   "language": "python",
   "name": "conda-env-ml4f_dj-py"
  },
  "language_info": {
   "codemirror_mode": {
    "name": "ipython",
    "version": 3
   },
   "file_extension": ".py",
   "mimetype": "text/x-python",
   "name": "python",
   "nbconvert_exporter": "python",
   "pygments_lexer": "ipython3",
   "version": "3.8.5"
  }
 },
 "nbformat": 4,
 "nbformat_minor": 5
}
